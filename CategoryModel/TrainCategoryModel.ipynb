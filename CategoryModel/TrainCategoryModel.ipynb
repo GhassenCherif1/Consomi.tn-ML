{
 "cells": [
  {
   "cell_type": "code",
   "execution_count": 1,
   "metadata": {},
   "outputs": [],
   "source": [
    "import numpy as np \n",
    "import pandas as pd\n",
    "import matplotlib.pyplot as plt\n",
    "import tensorflow as tf\n",
    "from tensorflow.keras.preprocessing.image import ImageDataGenerator , load_img , img_to_array\n",
    "import os\n",
    "import uuid\n",
    "import shutil\n",
    "import glob"
   ]
  },
  {
   "cell_type": "code",
   "execution_count": 3,
   "metadata": {},
   "outputs": [
    {
     "name": "stdout",
     "output_type": "stream",
     "text": [
      "WARNING:tensorflow:From c:\\Users\\ghass\\anaconda3\\envs\\yolo\\Lib\\site-packages\\keras\\src\\backend\\common\\global_state.py:73: The name tf.reset_default_graph is deprecated. Please use tf.compat.v1.reset_default_graph instead.\n",
      "\n"
     ]
    }
   ],
   "source": [
    "tf.keras.backend.clear_session()"
   ]
  },
  {
   "cell_type": "markdown",
   "metadata": {},
   "source": [
    "## Data Augmentation"
   ]
  },
  {
   "cell_type": "code",
   "execution_count": 376,
   "metadata": {},
   "outputs": [],
   "source": [
    "\n",
    "# #copy some images of cars to the test folder\n",
    "# def copy_files(source_path, destination_path, num_files=5):\n",
    "#     # Iterate over each directory in the source path\n",
    "#     for root, dirs, files in os.walk(source_path):\n",
    "#         #files = files[:10]\n",
    "#         # Iterate over each file in the current directory\n",
    "#         for i, file_name in enumerate(files):\n",
    "#             # Check if we've copied the desired number of files already\n",
    "#             if i >= num_files:\n",
    "#                 break\n",
    "            \n",
    "#             # Generate a unique UUID for the new file name\n",
    "#             unique_id = str(uuid.uuid4())\n",
    "            \n",
    "#             # Construct the source and destination file paths\n",
    "#             source_file_path = os.path.join(root, file_name)\n",
    "#             destination_file_name = unique_id + os.path.splitext(file_name)[1]  # Preserve file extension\n",
    "#             destination_file_path = os.path.join(destination_path, destination_file_name)\n",
    "            \n",
    "#             # Copy the file to the destination\n",
    "#             shutil.copy(source_file_path, destination_file_path)\n",
    "\n",
    "# source_path = \"E:/Data/Cars/car_data/car_data/train\"\n",
    "# destination_path = \"D:/ML Projects/PPP Model/CategoryModel/Train/Cars\"\n",
    "# copy_files(source_path, destination_path, num_files=12)\n"
   ]
  },
  {
   "cell_type": "code",
   "execution_count": 377,
   "metadata": {},
   "outputs": [],
   "source": [
    "# from tensorflow.keras.preprocessing.image import ImageDataGenerator\n",
    "# from tensorflow.keras.utils import img_to_array\n",
    "\n",
    "# # Define data augmentation parameters (adjust as needed)\n",
    "# datagen = ImageDataGenerator(\n",
    "#     rotation_range=60,  # Rotate images by up to 40 degrees\n",
    "#     shear_range=0.4,     # Shear by up to 20%\n",
    "#     zoom_range=0.3,      # Zoom by up to 20%\n",
    "#     horizontal_flip=True, # Randomly flip images horizontally\n",
    "#     brightness_range=(0.5, 1.5)  # Adjust brightness range\n",
    "# )\n",
    "\n",
    "# # Define path to your image folder\n",
    "# image_dir = \"E:/Data/watches/images.cv_3v5apop148okjqfbzufach/data/train/wristwatch\"\n",
    "\n",
    "# # Define output directory for augmented images (create if it doesn't exist)\n",
    "# save_to_dir = \"Train/Clothes\"\n",
    "# import os\n",
    "# os.makedirs(save_to_dir, exist_ok=True)  # Create directory if it doesn't exist\n",
    "\n",
    "# # Loop through each image in the folder\n",
    "# for filename in os.listdir(image_dir):\n",
    "#     # Load the image\n",
    "#     img = load_img(os.path.join(image_dir, filename))\n",
    "\n",
    "#     # Convert to array\n",
    "#     x = img_to_array(img)\n",
    "\n",
    "#     # Reshape (optional, based on your model's requirements)\n",
    "#     x = x.reshape((1,) + x.shape)  # Reshape if your model expects a specific format\n",
    "\n",
    "#     # Generate and save augmented images\n",
    "#     i = 0\n",
    "#     for batch in datagen.flow(x, batch_size=1, save_to_dir=save_to_dir, save_prefix=\"aug_\", save_format=\"jpeg\"):\n",
    "#         i += 1\n",
    "#         # You can adjust the number of augmented images per original image here (e.g., i > 5)\n",
    "#         if i > 2:\n",
    "#             break\n",
    "# print(f\"Successfully augmented and saved images to {save_to_dir}\")\n"
   ]
  },
  {
   "cell_type": "code",
   "execution_count": 378,
   "metadata": {},
   "outputs": [],
   "source": [
    "base_model = tf.keras.applications.MobileNetV2(input_shape=(224,224,3),weights=\"imagenet\",include_top=False)"
   ]
  },
  {
   "cell_type": "code",
   "execution_count": 379,
   "metadata": {},
   "outputs": [],
   "source": [
    "x = tf.keras.layers.GlobalAvgPool2D()(base_model.output)\n",
    "x = tf.keras.layers.Flatten()(x)\n",
    "x = tf.keras.layers.Dense(128,activation=\"relu\")(x)\n",
    "x = tf.keras.layers.Dropout(0.2)(x)\n",
    "x = tf.keras.layers.Dense(64,activation=\"relu\")(x)\n",
    "x = tf.keras.layers.Dropout(0.2)(x)\n",
    "x = tf.keras.layers.Dense(6,activation=\"softmax\")(x)\n",
    "\n",
    "model = tf.keras.Model(inputs = base_model.input , outputs = x)\n"
   ]
  },
  {
   "cell_type": "code",
   "execution_count": 380,
   "metadata": {},
   "outputs": [],
   "source": [
    "#freezing the original model's layers\n",
    "for layer in base_model.layers:\n",
    "    layer.trainable = False"
   ]
  },
  {
   "cell_type": "code",
   "execution_count": 381,
   "metadata": {},
   "outputs": [],
   "source": [
    "from tensorflow.keras.optimizers import Adam\n",
    "from tensorflow.keras.losses import CategoricalCrossentropy\n",
    "\n",
    "# ... your model definition ...\n",
    "\n",
    "# Compile the model\n",
    "model.compile(optimizer=Adam(learning_rate=0.001),\n",
    "              loss=CategoricalCrossentropy(from_logits=True),  # Adjust if needed\n",
    "              metrics=['accuracy'])"
   ]
  },
  {
   "cell_type": "code",
   "execution_count": 382,
   "metadata": {},
   "outputs": [],
   "source": [
    "# # define the directory containing training images\n",
    "# target_size = (224, 224)\n",
    "\n",
    "# # initialize lists to store images and labels\n",
    "# images = []\n",
    "# labels = []\n",
    "\n",
    "# for filename in os.listdir(\"Test/It\"):\n",
    "#     if filename.endswith('.jpg') or filename.endswith('.png') or filename.endswith('.jpeg'):\n",
    "#          # Load the image\n",
    "#         img = load_img(os.path.join(\"Test/It\", filename), target_size=(224,224))  # Adjust if needed\n",
    "\n",
    "#         # Convert to array and normalize\n",
    "#         img_array = img_to_array(img)\n",
    "#         img_array = np.expand_dims(x, axis=0)  # Add a batch dimension as the model expects batches\n",
    "#         img_array = img_array / 255.0  # Normalize pixel values (assuming rescale used during training)\n",
    "        \n",
    "#        # add the preprocessed image to the list of images\n",
    "#         images.append(img_array)\n",
    "#         labels.append(0)\n",
    "# for filename in os.listdir(\"Test/Clothes\"):\n",
    "#     if filename.endswith('.jpg') or filename.endswith('.png') or filename.endswith('.jpeg'):\n",
    "#          # Load the image\n",
    "#         img = load_img(os.path.join(\"Test/Clothes\", filename), target_size=(224,224))  # Adjust if needed\n",
    "\n",
    "#         # Convert to array and normalize\n",
    "#         img_array = img_to_array(img)\n",
    "#         img_array = np.expand_dims(x, axis=0)  # Add a batch dimension as the model expects batches\n",
    "#         img_array = img_array / 255.0  # Normalize pixel values (assuming rescale used during training)\n",
    "        \n",
    "#        # add the preprocessed image to the list of images\n",
    "#         images.append(img_array)\n",
    "#         labels.append(1)\n",
    "# for filename in os.listdir(\"Test/Cars\"):\n",
    "#     if filename.endswith('.jpg') or filename.endswith('.png') or filename.endswith('.jpeg'):\n",
    "#          # Load the image\n",
    "#         img = load_img(os.path.join(\"Test/Cars\", filename), target_size=(224,224))  # Adjust if needed\n",
    "\n",
    "#         # Convert to array and normalize\n",
    "#         img_array = img_to_array(img)\n",
    "#         img_array = np.expand_dims(x, axis=0)  # Add a batch dimension as the model expects batches\n",
    "#         img_array = img_array / 255.0  # Normalize pixel values (assuming rescale used during training)\n",
    "        \n",
    "#        # add the preprocessed image to the list of images\n",
    "#         images.append(img_array)\n",
    "#         labels.append(2)\n",
    "# for filename in os.listdir(\"Test/Furniture\"):\n",
    "#     if filename.endswith('.jpg') or filename.endswith('.png') or filename.endswith('.jpeg'):\n",
    "#          # Load the image\n",
    "#         img = load_img(os.path.join(\"Test/Furniture\", filename), target_size=(224,224))  # Adjust if needed\n",
    "\n",
    "#         # Convert to array and normalize\n",
    "#         img_array = img_to_array(img)\n",
    "#         img_array = np.expand_dims(x, axis=0)  # Add a batch dimension as the model expects batches\n",
    "#         img_array = img_array / 255.0  # Normalize pixel values (assuming rescale used during training)\n",
    "        \n",
    "#        # add the preprocessed image to the list of images\n",
    "#         images.append(img_array)\n",
    "#         labels.append(3)\n",
    "# for filename in os.listdir(\"Test/Jewellery\"):\n",
    "#     if filename.endswith('.jpg') or filename.endswith('.png') or filename.endswith('.jpeg'):\n",
    "#          # Load the image\n",
    "#         img = load_img(os.path.join(\"Test/Jewellery\", filename), target_size=(224,224))  # Adjust if needed\n",
    "\n",
    "#         # Convert to array and normalize\n",
    "#         img_array = img_to_array(img)\n",
    "#         img_array = np.expand_dims(x, axis=0)  # Add a batch dimension as the model expects batches\n",
    "#         img_array = img_array / 255.0  # Normalize pixel values (assuming rescale used during training)\n",
    "        \n",
    "#        # add the preprocessed image to the list of images\n",
    "#         images.append(img_array)\n",
    "#         labels.append(4)\n",
    "# for filename in os.listdir(\"Test/Animals\"):\n",
    "#     if filename.endswith('.jpg') or filename.endswith('.png') or filename.endswith('.jpeg'):\n",
    "#          # Load the image\n",
    "#         img = load_img(os.path.join(\"Test/Animals\", filename), target_size=(224,224))  # Adjust if needed\n",
    "\n",
    "#         # Convert to array and normalize\n",
    "#         img_array = img_to_array(img)\n",
    "#         img_array = np.expand_dims(x, axis=0)  # Add a batch dimension as the model expects batches\n",
    "#         img_array = img_array / 255.0  # Normalize pixel values (assuming rescale used during training)\n",
    "        \n",
    "#        # add the preprocessed image to the list of images\n",
    "#         images.append(img_array)\n",
    "#         labels.append(5)\n",
    "# for filename in os.listdir(\"Test/Other\"):\n",
    "#     if filename.endswith('.jpg') or filename.endswith('.png') or filename.endswith('.jpeg'):\n",
    "#          # Load the image\n",
    "#         img = load_img(os.path.join(\"Test/Other\", filename), target_size=(224,224))  # Adjust if needed\n",
    "\n",
    "#         # Convert to array and normalize\n",
    "#         img_array = img_to_array(img)\n",
    "#         img_array = np.expand_dims(x, axis=0)  # Add a batch dimension as the model expects batches\n",
    "#         img_array = img_array / 255.0  # Normalize pixel values (assuming rescale used during training)\n",
    "        \n",
    "#        # add the preprocessed image to the list of images\n",
    "#         images.append(img_array)\n",
    "#         labels.append(6)\n",
    "# # convert lists to numpy arrays\n",
    "# X_train = np.array(images)\n",
    "# Y_train = np.array(labels)"
   ]
  },
  {
   "cell_type": "code",
   "execution_count": 4,
   "metadata": {},
   "outputs": [
    {
     "data": {
      "text/plain": [
       "['Train\\\\Animals',\n",
       " 'Train\\\\Cars',\n",
       " 'Train\\\\Clothes',\n",
       " 'Train\\\\Furniture',\n",
       " 'Train\\\\It',\n",
       " 'Train\\\\Jewellery']"
      ]
     },
     "execution_count": 4,
     "metadata": {},
     "output_type": "execute_result"
    }
   ],
   "source": [
    "train_Path = \"Train\"\n",
    "IMAGE_SIZE = (224,224)\n",
    "folders = glob.glob(train_Path + '/*')\n",
    "folders"
   ]
  },
  {
   "cell_type": "code",
   "execution_count": 8,
   "metadata": {},
   "outputs": [],
   "source": [
    "labels = [\"Animals\",\"Cars\",\"Clothes\",\"Furniture\",\"It\",\"Jewellery\"]"
   ]
  },
  {
   "cell_type": "code",
   "execution_count": 385,
   "metadata": {},
   "outputs": [
    {
     "name": "stdout",
     "output_type": "stream",
     "text": [
      "Found 18692 images belonging to 6 classes.\n"
     ]
    }
   ],
   "source": [
    "train_datagen = ImageDataGenerator(\n",
    "    rescale = 1./255,\n",
    "    shear_range = 0.2,\n",
    "    zoom_range = 0.2,\n",
    "    horizontal_flip = True\n",
    ")\n",
    "training_set = train_datagen.flow_from_directory(\n",
    "    train_Path,\n",
    "    target_size = IMAGE_SIZE,\n",
    "    batch_size = 32,\n",
    "    class_mode = 'categorical', # As we have more than 2 so using categorical.. for 2 we might have used binary.\n",
    "    shuffle = True\n",
    ")\n"
   ]
  },
  {
   "cell_type": "code",
   "execution_count": 386,
   "metadata": {},
   "outputs": [
    {
     "name": "stdout",
     "output_type": "stream",
     "text": [
      "Found 1751 images belonging to 6 classes.\n"
     ]
    }
   ],
   "source": [
    "test_datagen = ImageDataGenerator(rescale=1./255)\n",
    "test_Path = \"Test\"\n",
    "test_set = test_datagen.flow_from_directory(\n",
    "    test_Path,  # Use your test data directory here\n",
    "    target_size=IMAGE_SIZE,\n",
    "    batch_size=32,\n",
    "    class_mode='categorical'\n",
    ")"
   ]
  },
  {
   "cell_type": "code",
   "execution_count": 387,
   "metadata": {},
   "outputs": [
    {
     "name": "stdout",
     "output_type": "stream",
     "text": [
      "Epoch 1/10\n",
      "\u001b[1m397/585\u001b[0m \u001b[32m━━━━━━━━━━━━━\u001b[0m\u001b[37m━━━━━━━\u001b[0m \u001b[1m2:41\u001b[0m 857ms/step - accuracy: 0.8278 - loss: 0.4838"
     ]
    },
    {
     "name": "stderr",
     "output_type": "stream",
     "text": [
      "c:\\Users\\ghass\\anaconda3\\envs\\yolo\\Lib\\site-packages\\PIL\\Image.py:981: UserWarning: Palette images with Transparency expressed in bytes should be converted to RGBA images\n",
      "  warnings.warn(\n"
     ]
    },
    {
     "name": "stdout",
     "output_type": "stream",
     "text": [
      "\u001b[1m585/585\u001b[0m \u001b[32m━━━━━━━━━━━━━━━━━━━━\u001b[0m\u001b[37m\u001b[0m \u001b[1m521s\u001b[0m 874ms/step - accuracy: 0.8597 - loss: 0.3994 - val_accuracy: 0.9760 - val_loss: 0.0761\n",
      "Epoch 2/10\n",
      "\u001b[1m585/585\u001b[0m \u001b[32m━━━━━━━━━━━━━━━━━━━━\u001b[0m\u001b[37m\u001b[0m \u001b[1m21s\u001b[0m 36ms/step - accuracy: 0.0000e+00 - loss: 0.0000e+00 - val_accuracy: 0.9760 - val_loss: 0.0769\n",
      "Epoch 3/10\n",
      "\u001b[1m585/585\u001b[0m \u001b[32m━━━━━━━━━━━━━━━━━━━━\u001b[0m\u001b[37m\u001b[0m \u001b[1m391s\u001b[0m 664ms/step - accuracy: 0.9707 - loss: 0.0902 - val_accuracy: 0.9806 - val_loss: 0.0628\n",
      "Epoch 4/10\n",
      "\u001b[1m585/585\u001b[0m \u001b[32m━━━━━━━━━━━━━━━━━━━━\u001b[0m\u001b[37m\u001b[0m \u001b[1m21s\u001b[0m 36ms/step - accuracy: 0.0000e+00 - loss: 0.0000e+00 - val_accuracy: 0.9806 - val_loss: 0.0625\n",
      "Epoch 5/10\n",
      "\u001b[1m585/585\u001b[0m \u001b[32m━━━━━━━━━━━━━━━━━━━━\u001b[0m\u001b[37m\u001b[0m \u001b[1m404s\u001b[0m 687ms/step - accuracy: 0.9778 - loss: 0.0676 - val_accuracy: 0.9794 - val_loss: 0.0671\n",
      "Epoch 6/10\n",
      "\u001b[1m585/585\u001b[0m \u001b[32m━━━━━━━━━━━━━━━━━━━━\u001b[0m\u001b[37m\u001b[0m \u001b[1m23s\u001b[0m 39ms/step - accuracy: 0.0000e+00 - loss: 0.0000e+00 - val_accuracy: 0.9794 - val_loss: 0.0700\n",
      "Epoch 7/10\n",
      "\u001b[1m585/585\u001b[0m \u001b[32m━━━━━━━━━━━━━━━━━━━━\u001b[0m\u001b[37m\u001b[0m \u001b[1m392s\u001b[0m 665ms/step - accuracy: 0.9845 - loss: 0.0505 - val_accuracy: 0.9829 - val_loss: 0.0644\n",
      "Epoch 8/10\n",
      "\u001b[1m585/585\u001b[0m \u001b[32m━━━━━━━━━━━━━━━━━━━━\u001b[0m\u001b[37m\u001b[0m \u001b[1m21s\u001b[0m 36ms/step - accuracy: 0.0000e+00 - loss: 0.0000e+00 - val_accuracy: 0.9829 - val_loss: 0.0641\n",
      "Epoch 9/10\n",
      "\u001b[1m585/585\u001b[0m \u001b[32m━━━━━━━━━━━━━━━━━━━━\u001b[0m\u001b[37m\u001b[0m \u001b[1m390s\u001b[0m 663ms/step - accuracy: 0.9852 - loss: 0.0454 - val_accuracy: 0.9737 - val_loss: 0.1038\n",
      "Epoch 10/10\n",
      "\u001b[1m585/585\u001b[0m \u001b[32m━━━━━━━━━━━━━━━━━━━━\u001b[0m\u001b[37m\u001b[0m \u001b[1m21s\u001b[0m 36ms/step - accuracy: 0.0000e+00 - loss: 0.0000e+00 - val_accuracy: 0.9737 - val_loss: 0.1039\n"
     ]
    },
    {
     "data": {
      "text/plain": [
       "<keras.src.callbacks.history.History at 0x1ea202909b0>"
      ]
     },
     "execution_count": 387,
     "metadata": {},
     "output_type": "execute_result"
    }
   ],
   "source": [
    "model.fit(training_set, epochs=10, steps_per_epoch=len(training_set),validation_data=test_set)"
   ]
  },
  {
   "cell_type": "code",
   "execution_count": null,
   "metadata": {},
   "outputs": [],
   "source": [
    "model = tf.ke"
   ]
  },
  {
   "cell_type": "code",
   "execution_count": 181,
   "metadata": {},
   "outputs": [
    {
     "name": "stderr",
     "output_type": "stream",
     "text": [
      "c:\\Users\\ghass\\anaconda3\\envs\\yolo\\Lib\\site-packages\\keras\\src\\trainers\\data_adapters\\py_dataset_adapter.py:120: UserWarning: Your `PyDataset` class should call `super().__init__(**kwargs)` in its constructor. `**kwargs` can include `workers`, `use_multiprocessing`, `max_queue_size`. Do not pass these arguments to `fit()`, as they will be ignored.\n",
      "  self._warn_if_super_not_called()\n"
     ]
    }
   ],
   "source": [
    "pred_test = model.predict(test_set, steps=len(test_set), verbose=0)"
   ]
  },
  {
   "cell_type": "code",
   "execution_count": null,
   "metadata": {},
   "outputs": [],
   "source": [
    "test_labels = test_set  # This is a generator\n",
    "all_test_labels = []\n",
    "for _, labels in test_set:\n",
    "  all_test_labels.extend(labels.tolist())  # Convert labels in each batch to list\n"
   ]
  },
  {
   "cell_type": "code",
   "execution_count": null,
   "metadata": {},
   "outputs": [],
   "source": [
    "len(all_test_labels)"
   ]
  },
  {
   "cell_type": "code",
   "execution_count": 18,
   "metadata": {},
   "outputs": [],
   "source": [
    "from tensorflow.keras.preprocessing.image import load_img, img_to_array\n",
    "\n",
    "# Define path to your image\n",
    "image_path = \"jaguar.jpg\"\n",
    "\n",
    "# Load the image\n",
    "img = load_img(image_path, target_size=IMAGE_SIZE)  # Adjust if needed\n",
    "\n",
    "# Convert to array and normalize\n",
    "x = img_to_array(img)\n",
    "x = np.expand_dims(x, axis=0)  # Add a batch dimension as the model expects batches\n",
    "x = x / 255.0  # Normalize pixel values (assuming rescale used during training)\n"
   ]
  },
  {
   "cell_type": "code",
   "execution_count": 19,
   "metadata": {},
   "outputs": [
    {
     "name": "stdout",
     "output_type": "stream",
     "text": [
      "\u001b[1m1/1\u001b[0m \u001b[32m━━━━━━━━━━━━━━━━━━━━\u001b[0m\u001b[37m\u001b[0m \u001b[1m0s\u001b[0m 85ms/step\n",
      "Other\n",
      "[[0.20119467 0.02955429 0.08404132 0.00348682 0.67595965 0.00576322]]\n"
     ]
    }
   ],
   "source": [
    "# Make predictions\n",
    "predictions = model.predict(x)\n",
    "\n",
    "# Get the class with the highest probability\n",
    "predicted_class = np.argmax(predictions[0])  # Assuming one prediction per image\n",
    "max = np.max(predictions[0])\n",
    "if(max<0.7):\n",
    "    print(\"Other\")\n",
    "else:\n",
    "    print(labels[predicted_class])\n",
    "print(predictions)\n"
   ]
  },
  {
   "cell_type": "code",
   "execution_count": 12,
   "metadata": {},
   "outputs": [],
   "source": [
    "# model.save(\"CategoryModelV2.keras\")"
   ]
  },
  {
   "cell_type": "code",
   "execution_count": 2,
   "metadata": {},
   "outputs": [
    {
     "name": "stderr",
     "output_type": "stream",
     "text": [
      "c:\\Users\\ghass\\anaconda3\\envs\\yolo\\Lib\\site-packages\\keras\\src\\saving\\saving_lib.py:396: UserWarning: Skipping variable loading for optimizer 'adam', because it has 326 variables whereas the saved optimizer has 14 variables. \n",
      "  trackable.load_own_variables(weights_store.get(inner_path))\n"
     ]
    }
   ],
   "source": [
    "model = tf.keras.models.load_model(\"CategoryModelV2.keras\")"
   ]
  },
  {
   "cell_type": "code",
   "execution_count": null,
   "metadata": {},
   "outputs": [],
   "source": []
  }
 ],
 "metadata": {
  "kernelspec": {
   "display_name": "Python 3",
   "language": "python",
   "name": "python3"
  },
  "language_info": {
   "codemirror_mode": {
    "name": "ipython",
    "version": 3
   },
   "file_extension": ".py",
   "mimetype": "text/x-python",
   "name": "python",
   "nbconvert_exporter": "python",
   "pygments_lexer": "ipython3",
   "version": "3.12.2"
  }
 },
 "nbformat": 4,
 "nbformat_minor": 2
}
