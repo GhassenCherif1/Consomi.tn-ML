{
 "cells": [
  {
   "cell_type": "code",
   "execution_count": 22,
   "metadata": {},
   "outputs": [],
   "source": [
    "import pandas as pd\n",
    "import numpy as np\n",
    "import matplotlib.pyplot as plt\n",
    "import seaborn as sns\n",
    "sns.set()\n",
    "\n",
    "from joblib import dump, load\n",
    "from sklearn.preprocessing import StandardScaler, OneHotEncoder\n",
    "from sklearn.model_selection import train_test_split\n",
    "from sklearn.ensemble import RandomForestRegressor, AdaBoostRegressor, GradientBoostingRegressor\n",
    "from sklearn.svm import SVR\n",
    "from sklearn.metrics import mean_squared_error, r2_score , mean_absolute_error\n",
    "from xgboost import XGBRegressor\n",
    "from lightgbm import LGBMRegressor\n",
    "from catboost import CatBoostRegressor\n",
    "from sklearn.linear_model import Ridge, Lasso\n",
    "import tensorflow as tf\n",
    "import warnings\n",
    "from TransformationPipeline import TransformationPipeline\n",
    "warnings.filterwarnings('ignore')"
   ]
  },
  {
   "cell_type": "markdown",
   "metadata": {},
   "source": [
    "### **1. Loading Data**"
   ]
  },
  {
   "cell_type": "code",
   "execution_count": 2,
   "metadata": {},
   "outputs": [],
   "source": [
    "data = pd.read_csv(\"data.csv\")"
   ]
  },
  {
   "cell_type": "code",
   "execution_count": 3,
   "metadata": {},
   "outputs": [
    {
     "data": {
      "text/html": [
       "<div>\n",
       "<style scoped>\n",
       "    .dataframe tbody tr th:only-of-type {\n",
       "        vertical-align: middle;\n",
       "    }\n",
       "\n",
       "    .dataframe tbody tr th {\n",
       "        vertical-align: top;\n",
       "    }\n",
       "\n",
       "    .dataframe thead th {\n",
       "        text-align: right;\n",
       "    }\n",
       "</style>\n",
       "<table border=\"1\" class=\"dataframe\">\n",
       "  <thead>\n",
       "    <tr style=\"text-align: right;\">\n",
       "      <th></th>\n",
       "      <th>ID</th>\n",
       "      <th>marka</th>\n",
       "      <th>naw3</th>\n",
       "      <th>9at3a</th>\n",
       "      <th>khochn</th>\n",
       "      <th>toul</th>\n",
       "      <th>3ordh</th>\n",
       "      <th>R</th>\n",
       "      <th>G</th>\n",
       "      <th>B</th>\n",
       "      <th>soum</th>\n",
       "    </tr>\n",
       "  </thead>\n",
       "  <tbody>\n",
       "    <tr>\n",
       "      <th>0</th>\n",
       "      <td>0</td>\n",
       "      <td>Bey&amp;Bey</td>\n",
       "      <td>mta3 a3res</td>\n",
       "      <td>kabbout</td>\n",
       "      <td>1.081667</td>\n",
       "      <td>22.4</td>\n",
       "      <td>57.0</td>\n",
       "      <td>98</td>\n",
       "      <td>18</td>\n",
       "      <td>21</td>\n",
       "      <td>49.2</td>\n",
       "    </tr>\n",
       "    <tr>\n",
       "      <th>1</th>\n",
       "      <td>1</td>\n",
       "      <td>HA</td>\n",
       "      <td>confy</td>\n",
       "      <td>sabbat</td>\n",
       "      <td>1.038333</td>\n",
       "      <td>46.4</td>\n",
       "      <td>54.0</td>\n",
       "      <td>128</td>\n",
       "      <td>23</td>\n",
       "      <td>27</td>\n",
       "      <td>180.9</td>\n",
       "    </tr>\n",
       "    <tr>\n",
       "      <th>2</th>\n",
       "      <td>2</td>\n",
       "      <td>Zen</td>\n",
       "      <td>confy</td>\n",
       "      <td>maryoul</td>\n",
       "      <td>1.021667</td>\n",
       "      <td>40.8</td>\n",
       "      <td>54.0</td>\n",
       "      <td>121</td>\n",
       "      <td>22</td>\n",
       "      <td>25</td>\n",
       "      <td>143.8</td>\n",
       "    </tr>\n",
       "    <tr>\n",
       "      <th>3</th>\n",
       "      <td>3</td>\n",
       "      <td>Bey&amp;Bey</td>\n",
       "      <td>confy</td>\n",
       "      <td>maryoul</td>\n",
       "      <td>1.065000</td>\n",
       "      <td>24.8</td>\n",
       "      <td>56.0</td>\n",
       "      <td>101</td>\n",
       "      <td>18</td>\n",
       "      <td>21</td>\n",
       "      <td>54.4</td>\n",
       "    </tr>\n",
       "    <tr>\n",
       "      <th>4</th>\n",
       "      <td>4</td>\n",
       "      <td>Armani</td>\n",
       "      <td>classy</td>\n",
       "      <td>kabbout</td>\n",
       "      <td>1.041667</td>\n",
       "      <td>72.0</td>\n",
       "      <td>61.0</td>\n",
       "      <td>146</td>\n",
       "      <td>26</td>\n",
       "      <td>30</td>\n",
       "      <td>345.9</td>\n",
       "    </tr>\n",
       "  </tbody>\n",
       "</table>\n",
       "</div>"
      ],
      "text/plain": [
       "   ID    marka        naw3    9at3a    khochn  toul  3ordh    R   G   B   soum\n",
       "0   0  Bey&Bey  mta3 a3res  kabbout  1.081667  22.4   57.0   98  18  21   49.2\n",
       "1   1       HA       confy   sabbat  1.038333  46.4   54.0  128  23  27  180.9\n",
       "2   2      Zen       confy  maryoul  1.021667  40.8   54.0  121  22  25  143.8\n",
       "3   3  Bey&Bey       confy  maryoul  1.065000  24.8   56.0  101  18  21   54.4\n",
       "4   4   Armani      classy  kabbout  1.041667  72.0   61.0  146  26  30  345.9"
      ]
     },
     "execution_count": 3,
     "metadata": {},
     "output_type": "execute_result"
    }
   ],
   "source": [
    "data.head()"
   ]
  },
  {
   "cell_type": "code",
   "execution_count": 4,
   "metadata": {},
   "outputs": [],
   "source": [
    "# df.rename(columns={'marka': 'Brand' ,\"naw3\" : \"Class\" , \"9at3a\" : \"Category\" , \"toul\" : \"Height\" , \"khochn\":\"Depth\", \"3ordh\": \"Width\",\"soum\":\"Price\"}, inplace=True)\n",
    "# df =df.drop(columns=\"ID\")"
   ]
  },
  {
   "cell_type": "code",
   "execution_count": 5,
   "metadata": {},
   "outputs": [],
   "source": [
    "data['9at3a'] = data['9at3a'].replace('kabbout', 'Jacket')\n",
    "data['9at3a'] = data['9at3a'].replace('sabbat', 'Shoes')\n",
    "data['9at3a'] = data['9at3a'].replace('maryoul', 'Shirt')\n",
    "data['9at3a'] = data['9at3a'].replace('t-shirt', 'T_shirt')\n",
    "data['9at3a'] = data['9at3a'].replace('jacket', 'Jacket')\n",
    "data['9at3a'] = data['9at3a'].replace('serwel', 'Pants')\n",
    "data = data[data['9at3a'] != 'hoodie']\n",
    "data = data[data['9at3a'] != 'socks']\n",
    "data =data.drop(columns=\"ID\")"
   ]
  },
  {
   "cell_type": "code",
   "execution_count": 6,
   "metadata": {},
   "outputs": [
    {
     "data": {
      "text/plain": [
       "array(['Jacket', 'Shoes', 'Shirt', 'T_shirt', 'Pants'], dtype=object)"
      ]
     },
     "execution_count": 6,
     "metadata": {},
     "output_type": "execute_result"
    }
   ],
   "source": [
    "data[\"9at3a\"].unique()"
   ]
  },
  {
   "cell_type": "markdown",
   "metadata": {},
   "source": [
    "### **2. Data Checks**"
   ]
  },
  {
   "cell_type": "code",
   "execution_count": 7,
   "metadata": {},
   "outputs": [
    {
     "data": {
      "text/plain": [
       "marka     0\n",
       "naw3      0\n",
       "9at3a     0\n",
       "khochn    0\n",
       "toul      0\n",
       "3ordh     0\n",
       "R         0\n",
       "G         0\n",
       "B         0\n",
       "soum      0\n",
       "dtype: int64"
      ]
     },
     "execution_count": 7,
     "metadata": {},
     "output_type": "execute_result"
    }
   ],
   "source": [
    "data.isna().sum()"
   ]
  },
  {
   "cell_type": "code",
   "execution_count": 8,
   "metadata": {},
   "outputs": [
    {
     "data": {
      "text/plain": [
       "366"
      ]
     },
     "execution_count": 8,
     "metadata": {},
     "output_type": "execute_result"
    }
   ],
   "source": [
    "data.duplicated().sum()"
   ]
  },
  {
   "cell_type": "code",
   "execution_count": 9,
   "metadata": {},
   "outputs": [
    {
     "name": "stdout",
     "output_type": "stream",
     "text": [
      "<class 'pandas.core.frame.DataFrame'>\n",
      "Index: 46290 entries, 0 to 48547\n",
      "Data columns (total 10 columns):\n",
      " #   Column  Non-Null Count  Dtype  \n",
      "---  ------  --------------  -----  \n",
      " 0   marka   46290 non-null  object \n",
      " 1   naw3    46290 non-null  object \n",
      " 2   9at3a   46290 non-null  object \n",
      " 3   khochn  46290 non-null  float64\n",
      " 4   toul    46290 non-null  float64\n",
      " 5   3ordh   46290 non-null  float64\n",
      " 6   R       46290 non-null  int64  \n",
      " 7   G       46290 non-null  int64  \n",
      " 8   B       46290 non-null  int64  \n",
      " 9   soum    46290 non-null  float64\n",
      "dtypes: float64(4), int64(3), object(3)\n",
      "memory usage: 3.9+ MB\n"
     ]
    }
   ],
   "source": [
    "data.info()"
   ]
  },
  {
   "cell_type": "code",
   "execution_count": 10,
   "metadata": {},
   "outputs": [
    {
     "data": {
      "text/plain": [
       "marka         5\n",
       "naw3          7\n",
       "9at3a         5\n",
       "khochn      170\n",
       "toul        256\n",
       "3ordh       125\n",
       "R           139\n",
       "G            30\n",
       "B            40\n",
       "soum      10978\n",
       "dtype: int64"
      ]
     },
     "execution_count": 10,
     "metadata": {},
     "output_type": "execute_result"
    }
   ],
   "source": [
    "data.nunique()"
   ]
  },
  {
   "cell_type": "code",
   "execution_count": 11,
   "metadata": {},
   "outputs": [
    {
     "data": {
      "text/html": [
       "<div>\n",
       "<style scoped>\n",
       "    .dataframe tbody tr th:only-of-type {\n",
       "        vertical-align: middle;\n",
       "    }\n",
       "\n",
       "    .dataframe tbody tr th {\n",
       "        vertical-align: top;\n",
       "    }\n",
       "\n",
       "    .dataframe thead th {\n",
       "        text-align: right;\n",
       "    }\n",
       "</style>\n",
       "<table border=\"1\" class=\"dataframe\">\n",
       "  <thead>\n",
       "    <tr style=\"text-align: right;\">\n",
       "      <th></th>\n",
       "      <th>khochn</th>\n",
       "      <th>toul</th>\n",
       "      <th>3ordh</th>\n",
       "      <th>R</th>\n",
       "      <th>G</th>\n",
       "      <th>B</th>\n",
       "      <th>soum</th>\n",
       "    </tr>\n",
       "  </thead>\n",
       "  <tbody>\n",
       "    <tr>\n",
       "      <th>count</th>\n",
       "      <td>46290.000000</td>\n",
       "      <td>46290.000000</td>\n",
       "      <td>46290.000000</td>\n",
       "      <td>46290.000000</td>\n",
       "      <td>46290.000000</td>\n",
       "      <td>46290.000000</td>\n",
       "      <td>46290.000000</td>\n",
       "    </tr>\n",
       "    <tr>\n",
       "      <th>mean</th>\n",
       "      <td>1.029034</td>\n",
       "      <td>64.062320</td>\n",
       "      <td>57.481488</td>\n",
       "      <td>135.830676</td>\n",
       "      <td>24.366775</td>\n",
       "      <td>27.920696</td>\n",
       "      <td>396.606492</td>\n",
       "    </tr>\n",
       "    <tr>\n",
       "      <th>std</th>\n",
       "      <td>0.023476</td>\n",
       "      <td>37.529743</td>\n",
       "      <td>2.231935</td>\n",
       "      <td>26.477142</td>\n",
       "      <td>4.950381</td>\n",
       "      <td>5.645137</td>\n",
       "      <td>399.668502</td>\n",
       "    </tr>\n",
       "    <tr>\n",
       "      <th>min</th>\n",
       "      <td>0.716667</td>\n",
       "      <td>16.000000</td>\n",
       "      <td>43.000000</td>\n",
       "      <td>0.000000</td>\n",
       "      <td>0.000000</td>\n",
       "      <td>0.000000</td>\n",
       "      <td>32.600000</td>\n",
       "    </tr>\n",
       "    <tr>\n",
       "      <th>25%</th>\n",
       "      <td>1.016667</td>\n",
       "      <td>32.000000</td>\n",
       "      <td>56.000000</td>\n",
       "      <td>112.000000</td>\n",
       "      <td>20.000000</td>\n",
       "      <td>23.000000</td>\n",
       "      <td>95.100000</td>\n",
       "    </tr>\n",
       "    <tr>\n",
       "      <th>50%</th>\n",
       "      <td>1.030000</td>\n",
       "      <td>56.800000</td>\n",
       "      <td>57.000000</td>\n",
       "      <td>135.000000</td>\n",
       "      <td>24.000000</td>\n",
       "      <td>28.000000</td>\n",
       "      <td>245.600000</td>\n",
       "    </tr>\n",
       "    <tr>\n",
       "      <th>75%</th>\n",
       "      <td>1.041667</td>\n",
       "      <td>83.200000</td>\n",
       "      <td>59.000000</td>\n",
       "      <td>155.000000</td>\n",
       "      <td>28.000000</td>\n",
       "      <td>32.000000</td>\n",
       "      <td>538.400000</td>\n",
       "    </tr>\n",
       "    <tr>\n",
       "      <th>max</th>\n",
       "      <td>1.316667</td>\n",
       "      <td>280.800000</td>\n",
       "      <td>95.000000</td>\n",
       "      <td>229.000000</td>\n",
       "      <td>255.000000</td>\n",
       "      <td>255.000000</td>\n",
       "      <td>1882.300000</td>\n",
       "    </tr>\n",
       "  </tbody>\n",
       "</table>\n",
       "</div>"
      ],
      "text/plain": [
       "             khochn          toul         3ordh             R             G  \\\n",
       "count  46290.000000  46290.000000  46290.000000  46290.000000  46290.000000   \n",
       "mean       1.029034     64.062320     57.481488    135.830676     24.366775   \n",
       "std        0.023476     37.529743      2.231935     26.477142      4.950381   \n",
       "min        0.716667     16.000000     43.000000      0.000000      0.000000   \n",
       "25%        1.016667     32.000000     56.000000    112.000000     20.000000   \n",
       "50%        1.030000     56.800000     57.000000    135.000000     24.000000   \n",
       "75%        1.041667     83.200000     59.000000    155.000000     28.000000   \n",
       "max        1.316667    280.800000     95.000000    229.000000    255.000000   \n",
       "\n",
       "                  B          soum  \n",
       "count  46290.000000  46290.000000  \n",
       "mean      27.920696    396.606492  \n",
       "std        5.645137    399.668502  \n",
       "min        0.000000     32.600000  \n",
       "25%       23.000000     95.100000  \n",
       "50%       28.000000    245.600000  \n",
       "75%       32.000000    538.400000  \n",
       "max      255.000000   1882.300000  "
      ]
     },
     "execution_count": 11,
     "metadata": {},
     "output_type": "execute_result"
    }
   ],
   "source": [
    "data.describe()"
   ]
  },
  {
   "cell_type": "code",
   "execution_count": 12,
   "metadata": {},
   "outputs": [],
   "source": [
    "data = data[data[\"toul\"]<260]\n",
    "data = data.loc[(data[\"3ordh\"] < 70) & (data[\"3ordh\"] > 51)]\n",
    "data = data.loc[(data[\"khochn\"] < 1.16) & (data[\"khochn\"] > 0.92)]\n",
    "data = data.loc[(data[\"R\"] < 240) & (data[\"R\"] > 100)]\n",
    "data = data.loc[(data[\"G\"] < 50) & (data[\"G\"] > 10)]\n",
    "data = data.loc[(data[\"B\"] < 53) & (data[\"B\"] > 17)]"
   ]
  },
  {
   "cell_type": "code",
   "execution_count": 13,
   "metadata": {},
   "outputs": [],
   "source": [
    "X = data.drop('soum', axis = 1)\n",
    "y = data.soum"
   ]
  },
  {
   "cell_type": "code",
   "execution_count": 14,
   "metadata": {},
   "outputs": [
    {
     "data": {
      "text/plain": [
       "((35686, 9), (8922, 9))"
      ]
     },
     "execution_count": 14,
     "metadata": {},
     "output_type": "execute_result"
    }
   ],
   "source": [
    "X_train, X_test, y_train, y_test = train_test_split(X,y,test_size=0.2,random_state= 1)\n",
    "X_train.shape, X_test.shape"
   ]
  },
  {
   "cell_type": "code",
   "execution_count": 15,
   "metadata": {},
   "outputs": [],
   "source": [
    "preprocessor = TransformationPipeline().preprocess(d=data)\n",
    "X_train = preprocessor.fit_transform(X_train)\n",
    "X_test = preprocessor.transform(X_test)"
   ]
  },
  {
   "cell_type": "code",
   "execution_count": 16,
   "metadata": {},
   "outputs": [
    {
     "data": {
      "text/plain": [
       "['ClothesPreprocessor.joblib']"
      ]
     },
     "execution_count": 16,
     "metadata": {},
     "output_type": "execute_result"
    }
   ],
   "source": [
    "dump(preprocessor,\"ClothesPreprocessor.joblib\")"
   ]
  },
  {
   "cell_type": "code",
   "execution_count": 16,
   "metadata": {},
   "outputs": [],
   "source": [
    "models = {\n",
    "    'ridge' : Ridge(),\n",
    "    'xgboost' : XGBRegressor(),\n",
    "    'catboost' : CatBoostRegressor(verbose=0),\n",
    "    'lightgbm' : LGBMRegressor(),\n",
    "}"
   ]
  },
  {
   "cell_type": "code",
   "execution_count": 17,
   "metadata": {},
   "outputs": [
    {
     "name": "stdout",
     "output_type": "stream",
     "text": [
      "ridge trained\n",
      "xgboost trained\n",
      "catboost trained\n",
      "[LightGBM] [Info] Auto-choosing row-wise multi-threading, the overhead of testing was 0.001217 seconds.\n",
      "You can set `force_row_wise=true` to remove the overhead.\n",
      "And if memory is not enough, you can set `force_col_wise=true`.\n",
      "[LightGBM] [Info] Total Bins 658\n",
      "[LightGBM] [Info] Number of data points in the train set: 35686, number of used features: 23\n",
      "[LightGBM] [Info] Start training from score 409.089332\n",
      "lightgbm trained\n"
     ]
    }
   ],
   "source": [
    "for name, model in models.items():\n",
    "    model.fit(X_train, y_train)\n",
    "    print(f'{name} trained')"
   ]
  },
  {
   "cell_type": "code",
   "execution_count": 23,
   "metadata": {},
   "outputs": [
    {
     "name": "stdout",
     "output_type": "stream",
     "text": [
      "ridge  r2_score 0.9340987759654636\n",
      "ridge  RMSE 101.80292049201694\n",
      "ridge  MAE 69.71960702004243\n",
      "xgboost  r2_score 0.9800600349212047\n",
      "xgboost  RMSE 55.99840964370866\n",
      "xgboost  MAE 29.49223589701547\n",
      "catboost  r2_score 0.9818340081940078\n",
      "catboost  RMSE 53.44942696780701\n",
      "catboost  MAE 28.71945894951966\n",
      "lightgbm  r2_score 0.981493603663101\n",
      "lightgbm  RMSE 53.94788535968604\n",
      "lightgbm  MAE 29.18937245351777\n"
     ]
    }
   ],
   "source": [
    "for name, model1 in models.items():\n",
    "    predictions = model1.predict(X_test)\n",
    "    print(name , \" r2_score\", r2_score(y_test,predictions))\n",
    "    print(name , \" RMSE\", np.sqrt(mean_squared_error(y_test,predictions)))\n",
    "    print(name , \" MAE\", mean_absolute_error(y_test,predictions))"
   ]
  },
  {
   "cell_type": "code",
   "execution_count": 20,
   "metadata": {},
   "outputs": [
    {
     "data": {
      "text/plain": [
       "['Catboost.joblib']"
      ]
     },
     "execution_count": 20,
     "metadata": {},
     "output_type": "execute_result"
    }
   ],
   "source": [
    "# dump(models[\"catboost\"],\"Catboost.joblib\")"
   ]
  },
  {
   "cell_type": "code",
   "execution_count": 19,
   "metadata": {},
   "outputs": [
    {
     "data": {
      "text/plain": [
       "2910.3743347818277"
      ]
     },
     "execution_count": 19,
     "metadata": {},
     "output_type": "execute_result"
    }
   ],
   "source": []
  },
  {
   "cell_type": "code",
   "execution_count": null,
   "metadata": {},
   "outputs": [],
   "source": []
  }
 ],
 "metadata": {
  "kernelspec": {
   "display_name": "yolo",
   "language": "python",
   "name": "python3"
  },
  "language_info": {
   "codemirror_mode": {
    "name": "ipython",
    "version": 3
   },
   "file_extension": ".py",
   "mimetype": "text/x-python",
   "name": "python",
   "nbconvert_exporter": "python",
   "pygments_lexer": "ipython3",
   "version": "3.12.2"
  }
 },
 "nbformat": 4,
 "nbformat_minor": 2
}
