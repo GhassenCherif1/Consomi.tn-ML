{
 "cells": [
  {
   "cell_type": "code",
   "execution_count": 1,
   "metadata": {},
   "outputs": [],
   "source": [
    "import numpy as np \n",
    "import pandas as pd\n",
    "import matplotlib.pyplot as plt\n",
    "import os\n",
    "import uuid\n",
    "import shutil\n",
    "import glob\n",
    "import tensorflow as tf\n",
    "from tensorflow.keras.preprocessing.image import ImageDataGenerator , load_img , img_to_array\n",
    "from tensorflow.keras.optimizers import Adam\n",
    "from tensorflow.keras.losses import CategoricalCrossentropy\n",
    "from sklearn.metrics import classification_report, accuracy_score"
   ]
  },
  {
   "cell_type": "code",
   "execution_count": 2,
   "metadata": {},
   "outputs": [
    {
     "name": "stdout",
     "output_type": "stream",
     "text": [
      "WARNING:tensorflow:From c:\\Users\\ghass\\anaconda3\\envs\\yolo\\Lib\\site-packages\\keras\\src\\backend\\common\\global_state.py:73: The name tf.reset_default_graph is deprecated. Please use tf.compat.v1.reset_default_graph instead.\n",
      "\n"
     ]
    }
   ],
   "source": [
    "tf.keras.backend.clear_session()"
   ]
  },
  {
   "cell_type": "markdown",
   "metadata": {},
   "source": [
    "## Data Augmentation"
   ]
  },
  {
   "cell_type": "code",
   "execution_count": 80,
   "metadata": {},
   "outputs": [],
   "source": [
    "# # Define data augmentation parameters (adjust as needed)\n",
    "# datagen = ImageDataGenerator(\n",
    "#     rotation_range=25,  # Rotate images by up to 40 degrees\n",
    "#     shear_range=0.25,     # Shear by up to 20%\n",
    "#     zoom_range=0.25,      # Zoom by up to 20%\n",
    "#     horizontal_flip=True, # Randomly flip images horizontally\n",
    "#     brightness_range=(0.5, 1.5)  # Adjust brightness range\n",
    "# )\n",
    "\n",
    "# # Define path to your image folder\n",
    "# image_dir = \"Train/SwivelChair\"\n",
    "\n",
    "# # Define output directory for augmented images (create if it doesn't exist)\n",
    "# save_to_dir = \"Train/SwivelChair\"\n",
    "# import os\n",
    "# os.makedirs(save_to_dir, exist_ok=True)  # Create directory if it doesn't exist\n",
    "\n",
    "# # Loop through each image in the folder\n",
    "# for filename in os.listdir(image_dir):\n",
    "#     # Load the image\n",
    "#     img = load_img(os.path.join(image_dir, filename))\n",
    "\n",
    "#     # Convert to array\n",
    "#     x = img_to_array(img)\n",
    "\n",
    "#     # Reshape (optional, based on your model's requirements)\n",
    "#     x = x.reshape((1,) + x.shape)  # Reshape if your model expects a specific format\n",
    "\n",
    "#     # Generate and save augmented images\n",
    "#     i = 0\n",
    "#     for batch in datagen.flow(x, batch_size=1, save_to_dir=save_to_dir, save_prefix=\"aug_\", save_format=\"jpeg\"):\n",
    "#         i += 1\n",
    "#         # You can adjust the number of augmented images per original image here (e.g., i > 5)\n",
    "#         if i > 2:\n",
    "#             break\n",
    "# print(f\"Successfully augmented and saved images to {save_to_dir}\")\n"
   ]
  },
  {
   "cell_type": "markdown",
   "metadata": {},
   "source": [
    "## Modeling"
   ]
  },
  {
   "cell_type": "code",
   "execution_count": 81,
   "metadata": {},
   "outputs": [],
   "source": [
    "base_model = tf.keras.applications.MobileNetV2(input_shape=(224,224,3),weights=\"imagenet\",include_top=False)"
   ]
  },
  {
   "cell_type": "code",
   "execution_count": 82,
   "metadata": {},
   "outputs": [],
   "source": [
    "x = tf.keras.layers.GlobalAvgPool2D()(base_model.output)\n",
    "x = tf.keras.layers.Flatten()(x)\n",
    "x = tf.keras.layers.Dense(128,activation=\"relu\")(x)\n",
    "x = tf.keras.layers.Dropout(0.2)(x)\n",
    "x = tf.keras.layers.Dense(64,activation=\"relu\")(x)\n",
    "x = tf.keras.layers.Dropout(0.2)(x)\n",
    "x = tf.keras.layers.Dense(5,activation=\"softmax\")(x)\n",
    "\n",
    "model = tf.keras.Model(inputs = base_model.input , outputs = x)\n"
   ]
  },
  {
   "cell_type": "code",
   "execution_count": 83,
   "metadata": {},
   "outputs": [],
   "source": [
    "#freezing the original model's layers\n",
    "for layer in base_model.layers:\n",
    "    layer.trainable = False"
   ]
  },
  {
   "cell_type": "code",
   "execution_count": 84,
   "metadata": {},
   "outputs": [],
   "source": [
    "model.compile(optimizer=Adam(learning_rate=0.001),\n",
    "              loss=CategoricalCrossentropy(from_logits=True),  # Adjust if needed\n",
    "              metrics=['accuracy'])"
   ]
  },
  {
   "cell_type": "code",
   "execution_count": 3,
   "metadata": {},
   "outputs": [
    {
     "data": {
      "text/plain": [
       "['Train\\\\Bed',\n",
       " 'Train\\\\Chair',\n",
       " 'Train\\\\Sofa',\n",
       " 'Train\\\\SwivelChair',\n",
       " 'Train\\\\Table']"
      ]
     },
     "execution_count": 3,
     "metadata": {},
     "output_type": "execute_result"
    }
   ],
   "source": [
    "train_Path = \"Train\"\n",
    "IMAGE_SIZE = (224,224)\n",
    "folders = glob.glob(train_Path + '/*')\n",
    "folders"
   ]
  },
  {
   "cell_type": "code",
   "execution_count": 4,
   "metadata": {},
   "outputs": [],
   "source": [
    "labels = [\"Bed\",\"Chair\",\"Sofa\",\"SwivelChair\",\"Table\"]"
   ]
  },
  {
   "cell_type": "code",
   "execution_count": 87,
   "metadata": {},
   "outputs": [
    {
     "name": "stdout",
     "output_type": "stream",
     "text": [
      "Found 9829 images belonging to 5 classes.\n"
     ]
    }
   ],
   "source": [
    "train_datagen = ImageDataGenerator(\n",
    "    rescale = 1./225,\n",
    "    shear_range = 0.2,\n",
    "    zoom_range = 0.2,\n",
    "    horizontal_flip = True\n",
    ")\n",
    "training_set = train_datagen.flow_from_directory(\n",
    "    train_Path,\n",
    "    target_size = IMAGE_SIZE,\n",
    "    batch_size = 32,\n",
    "    class_mode = 'categorical', # As we have more than 2 so using categorical.. for 2 we might have used binary.\n",
    "    shuffle = True\n",
    ")\n"
   ]
  },
  {
   "cell_type": "code",
   "execution_count": 9,
   "metadata": {},
   "outputs": [
    {
     "name": "stdout",
     "output_type": "stream",
     "text": [
      "Found 423 images belonging to 5 classes.\n"
     ]
    }
   ],
   "source": [
    "test_datagen = ImageDataGenerator(rescale=1./225)\n",
    "test_Path = \"Test\"\n",
    "test_set = test_datagen.flow_from_directory(\n",
    "    test_Path,  # Use your test data directory here\n",
    "    target_size=IMAGE_SIZE,\n",
    "    batch_size=32,\n",
    "    class_mode='categorical',\n",
    "    shuffle = False\n",
    ")"
   ]
  },
  {
   "cell_type": "code",
   "execution_count": 89,
   "metadata": {},
   "outputs": [
    {
     "name": "stdout",
     "output_type": "stream",
     "text": [
      "Epoch 1/10\n",
      "\u001b[1m308/308\u001b[0m \u001b[32m━━━━━━━━━━━━━━━━━━━━\u001b[0m\u001b[37m\u001b[0m \u001b[1m210s\u001b[0m 654ms/step - accuracy: 0.8016 - loss: 0.5158 - val_accuracy: 0.9267 - val_loss: 0.2053\n",
      "Epoch 2/10\n"
     ]
    },
    {
     "name": "stderr",
     "output_type": "stream",
     "text": [
      "c:\\Users\\ghass\\anaconda3\\envs\\yolo\\Lib\\contextlib.py:158: UserWarning: Your input ran out of data; interrupting training. Make sure that your dataset or generator can generate at least `steps_per_epoch * epochs` batches. You may need to use the `.repeat()` function when building your dataset.\n",
      "  self.gen.throw(value)\n"
     ]
    },
    {
     "name": "stdout",
     "output_type": "stream",
     "text": [
      "\u001b[1m308/308\u001b[0m \u001b[32m━━━━━━━━━━━━━━━━━━━━\u001b[0m\u001b[37m\u001b[0m \u001b[1m5s\u001b[0m 17ms/step - accuracy: 0.0000e+00 - loss: 0.0000e+00 - val_accuracy: 0.9267 - val_loss: 0.2069\n",
      "Epoch 3/10\n",
      "\u001b[1m308/308\u001b[0m \u001b[32m━━━━━━━━━━━━━━━━━━━━\u001b[0m\u001b[37m\u001b[0m \u001b[1m204s\u001b[0m 655ms/step - accuracy: 0.9413 - loss: 0.1761 - val_accuracy: 0.9433 - val_loss: 0.1366\n",
      "Epoch 4/10\n",
      "\u001b[1m308/308\u001b[0m \u001b[32m━━━━━━━━━━━━━━━━━━━━\u001b[0m\u001b[37m\u001b[0m \u001b[1m5s\u001b[0m 17ms/step - accuracy: 0.0000e+00 - loss: 0.0000e+00 - val_accuracy: 0.9433 - val_loss: 0.1357\n",
      "Epoch 5/10\n",
      "\u001b[1m308/308\u001b[0m \u001b[32m━━━━━━━━━━━━━━━━━━━━\u001b[0m\u001b[37m\u001b[0m \u001b[1m201s\u001b[0m 642ms/step - accuracy: 0.9511 - loss: 0.1332 - val_accuracy: 0.9574 - val_loss: 0.1318\n",
      "Epoch 6/10\n",
      "\u001b[1m308/308\u001b[0m \u001b[32m━━━━━━━━━━━━━━━━━━━━\u001b[0m\u001b[37m\u001b[0m \u001b[1m5s\u001b[0m 15ms/step - accuracy: 0.0000e+00 - loss: 0.0000e+00 - val_accuracy: 0.9574 - val_loss: 0.1235\n",
      "Epoch 7/10\n",
      "\u001b[1m308/308\u001b[0m \u001b[32m━━━━━━━━━━━━━━━━━━━━\u001b[0m\u001b[37m\u001b[0m \u001b[1m196s\u001b[0m 628ms/step - accuracy: 0.9609 - loss: 0.1154 - val_accuracy: 0.9574 - val_loss: 0.1617\n",
      "Epoch 8/10\n",
      "\u001b[1m308/308\u001b[0m \u001b[32m━━━━━━━━━━━━━━━━━━━━\u001b[0m\u001b[37m\u001b[0m \u001b[1m5s\u001b[0m 15ms/step - accuracy: 0.0000e+00 - loss: 0.0000e+00 - val_accuracy: 0.9574 - val_loss: 0.1678\n",
      "Epoch 9/10\n",
      "\u001b[1m308/308\u001b[0m \u001b[32m━━━━━━━━━━━━━━━━━━━━\u001b[0m\u001b[37m\u001b[0m \u001b[1m197s\u001b[0m 632ms/step - accuracy: 0.9721 - loss: 0.0844 - val_accuracy: 0.9622 - val_loss: 0.1407\n",
      "Epoch 10/10\n",
      "\u001b[1m308/308\u001b[0m \u001b[32m━━━━━━━━━━━━━━━━━━━━\u001b[0m\u001b[37m\u001b[0m \u001b[1m5s\u001b[0m 15ms/step - accuracy: 0.0000e+00 - loss: 0.0000e+00 - val_accuracy: 0.9622 - val_loss: 0.1206\n"
     ]
    },
    {
     "data": {
      "text/plain": [
       "<keras.src.callbacks.history.History at 0x20f032c5730>"
      ]
     },
     "execution_count": 89,
     "metadata": {},
     "output_type": "execute_result"
    }
   ],
   "source": [
    "model.fit(training_set, epochs=10, steps_per_epoch=len(training_set),validation_data=test_set)"
   ]
  },
  {
   "cell_type": "code",
   "execution_count": 320,
   "metadata": {},
   "outputs": [],
   "source": [
    "# Exemple of an image\n",
    "image_path = \"swivelchair (20).jpg\"\n",
    "\n",
    "# Load the image\n",
    "img = load_img(image_path, target_size=IMAGE_SIZE)  # Adjust if needed\n",
    "\n",
    "# Convert to array and normalize\n",
    "x = img_to_array(img)\n",
    "x = np.expand_dims(x, axis=0)  # Add a batch dimension as the model expects batches\n",
    "x = x / 255.0  # Normalize pixel values (assuming rescale used during training)\n"
   ]
  },
  {
   "cell_type": "code",
   "execution_count": 321,
   "metadata": {},
   "outputs": [
    {
     "name": "stdout",
     "output_type": "stream",
     "text": [
      "\u001b[1m1/1\u001b[0m \u001b[32m━━━━━━━━━━━━━━━━━━━━\u001b[0m\u001b[37m\u001b[0m \u001b[1m0s\u001b[0m 52ms/step\n",
      "SwivelChair\n",
      "[[2.9903550e-08 1.5067562e-05 2.1679769e-07 9.9998474e-01 4.9781217e-08]]\n"
     ]
    }
   ],
   "source": [
    "# Make predictions\n",
    "predictions = model.predict(x)\n",
    "\n",
    "# Get the class with the highest probability\n",
    "predicted_class = np.argmax(predictions[0])  # Assuming one prediction per image\n",
    "max = np.max(predictions[0])\n",
    "if(max<0.7):\n",
    "    print(\"Other\")\n",
    "else:\n",
    "    print(labels[predicted_class])\n",
    "print(predictions)\n"
   ]
  },
  {
   "cell_type": "code",
   "execution_count": 10,
   "metadata": {},
   "outputs": [
    {
     "name": "stderr",
     "output_type": "stream",
     "text": [
      "c:\\Users\\ghass\\anaconda3\\envs\\yolo\\Lib\\site-packages\\keras\\src\\saving\\saving_lib.py:396: UserWarning: Skipping variable loading for optimizer 'adam', because it has 326 variables whereas the saved optimizer has 14 variables. \n",
      "  trackable.load_own_variables(weights_store.get(inner_path))\n"
     ]
    }
   ],
   "source": [
    "# model.save(\"FurnitureModel.keras\")\n",
    "model = tf.keras.models.load_model(\"FurnitureModel.keras\")"
   ]
  },
  {
   "cell_type": "code",
   "execution_count": 11,
   "metadata": {},
   "outputs": [
    {
     "name": "stderr",
     "output_type": "stream",
     "text": [
      "c:\\Users\\ghass\\anaconda3\\envs\\yolo\\Lib\\site-packages\\keras\\src\\trainers\\data_adapters\\py_dataset_adapter.py:120: UserWarning: Your `PyDataset` class should call `super().__init__(**kwargs)` in its constructor. `**kwargs` can include `workers`, `use_multiprocessing`, `max_queue_size`. Do not pass these arguments to `fit()`, as they will be ignored.\n",
      "  self._warn_if_super_not_called()\n"
     ]
    },
    {
     "name": "stdout",
     "output_type": "stream",
     "text": [
      "\u001b[1m14/14\u001b[0m \u001b[32m━━━━━━━━━━━━━━━━━━━━\u001b[0m\u001b[37m\u001b[0m \u001b[1m9s\u001b[0m 499ms/step\n",
      "              precision    recall  f1-score   support\n",
      "\n",
      "         Bed       0.94      0.99      0.97       100\n",
      "       Chair       0.96      0.94      0.95       100\n",
      "        Sofa       0.98      0.97      0.97       100\n",
      " SwivelChair       1.00      0.94      0.97       100\n",
      "       Table       0.85      1.00      0.92        23\n",
      "\n",
      "    accuracy                           0.96       423\n",
      "   macro avg       0.95      0.97      0.96       423\n",
      "weighted avg       0.96      0.96      0.96       423\n",
      "\n"
     ]
    }
   ],
   "source": [
    "test_labels = test_set.classes\n",
    "\n",
    "# Predict the labels for the test set\n",
    "predictions = model.predict(test_set, steps=len(test_set))\n",
    "predicted_classes = np.argmax(predictions, axis=1)\n",
    "\n",
    "# Get the class indices to labels mapping\n",
    "class_labels = list(test_set.class_indices.keys())\n",
    "\n",
    "# Print classification report\n",
    "report = classification_report(test_labels, predicted_classes, target_names=class_labels)\n",
    "print(report)"
   ]
  },
  {
   "cell_type": "code",
   "execution_count": null,
   "metadata": {},
   "outputs": [],
   "source": []
  }
 ],
 "metadata": {
  "kernelspec": {
   "display_name": "yolo",
   "language": "python",
   "name": "python3"
  },
  "language_info": {
   "codemirror_mode": {
    "name": "ipython",
    "version": 3
   },
   "file_extension": ".py",
   "mimetype": "text/x-python",
   "name": "python",
   "nbconvert_exporter": "python",
   "pygments_lexer": "ipython3",
   "version": "3.12.2"
  }
 },
 "nbformat": 4,
 "nbformat_minor": 2
}
