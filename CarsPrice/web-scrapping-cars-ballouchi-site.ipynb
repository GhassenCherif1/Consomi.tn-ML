{
 "cells": [
  {
   "cell_type": "code",
   "execution_count": 1,
   "id": "8b360e3e",
   "metadata": {
    "_cell_guid": "b1076dfc-b9ad-4769-8c92-a6c4dae69d19",
    "_uuid": "8f2839f25d086af736a60e9eeb907d3b93b6e0e5",
    "execution": {
     "iopub.execute_input": "2022-07-18T10:04:23.025353Z",
     "iopub.status.busy": "2022-07-18T10:04:23.024252Z",
     "iopub.status.idle": "2022-07-18T10:04:23.223331Z",
     "shell.execute_reply": "2022-07-18T10:04:23.222372Z"
    },
    "papermill": {
     "duration": 0.205932,
     "end_time": "2022-07-18T10:04:23.225688",
     "exception": false,
     "start_time": "2022-07-18T10:04:23.019756",
     "status": "completed"
    },
    "tags": []
   },
   "outputs": [],
   "source": [
    "import requests\n",
    "from bs4 import BeautifulSoup\n",
    "import pandas as pd"
   ]
  },
  {
   "cell_type": "code",
   "execution_count": 2,
   "id": "810a0d83",
   "metadata": {
    "execution": {
     "iopub.execute_input": "2022-07-18T10:04:23.231918Z",
     "iopub.status.busy": "2022-07-18T10:04:23.231176Z",
     "iopub.status.idle": "2022-07-18T10:04:23.236232Z",
     "shell.execute_reply": "2022-07-18T10:04:23.234742Z"
    },
    "papermill": {
     "duration": 0.010091,
     "end_time": "2022-07-18T10:04:23.238376",
     "exception": false,
     "start_time": "2022-07-18T10:04:23.228285",
     "status": "completed"
    },
    "tags": []
   },
   "outputs": [],
   "source": [
    "base_url = 'https://www.ballouchi.com/annonces/vehicules/voitures/page-0.html'\n",
    "\n",
    "detail_url = 'https://www.ballouchi.com'\n",
    "\n",
    "headers = {\n",
    "     'User-Agent' : 'Mozilla/5.0 (Windows NT 10.0; Win64; x64; rv:96.0) Gecko/20100101 Firefox/96.0'\n",
    "}"
   ]
  },
  {
   "cell_type": "code",
   "execution_count": 3,
   "id": "4718f4c0",
   "metadata": {
    "execution": {
     "iopub.execute_input": "2022-07-18T10:04:23.243585Z",
     "iopub.status.busy": "2022-07-18T10:04:23.243141Z",
     "iopub.status.idle": "2022-07-18T10:05:44.246256Z",
     "shell.execute_reply": "2022-07-18T10:05:44.245229Z"
    },
    "papermill": {
     "duration": 81.010479,
     "end_time": "2022-07-18T10:05:44.250821",
     "exception": false,
     "start_time": "2022-07-18T10:04:23.240342",
     "status": "completed"
    },
    "tags": []
   },
   "outputs": [
    {
     "name": "stdout",
     "output_type": "stream",
     "text": [
      "[]\n"
     ]
    }
   ],
   "source": [
    "voitureslinks = []\n",
    "for x in range(0,690,1):\n",
    "  r = requests.get(f'https://www.ballouchi.com/annonces/vehicules/voitures/page-{x}.html')\n",
    "  c = r.content\n",
    "  soup = BeautifulSoup(c , 'html.parser')\n",
    "  voitureslist = soup.find_all('a' , {\"class\" : \"ui-button-primary\"})\n",
    "  for item in voitureslist:\n",
    "      voitureslinks.append(item['href'])\n",
    "print(voitureslinks)     "
   ]
  },
  {
   "cell_type": "code",
   "execution_count": 4,
   "id": "0afb7877",
   "metadata": {
    "execution": {
     "iopub.execute_input": "2022-07-18T10:05:44.256622Z",
     "iopub.status.busy": "2022-07-18T10:05:44.255959Z",
     "iopub.status.idle": "2022-07-18T10:05:44.270494Z",
     "shell.execute_reply": "2022-07-18T10:05:44.269592Z"
    },
    "papermill": {
     "duration": 0.019393,
     "end_time": "2022-07-18T10:05:44.272327",
     "exception": false,
     "start_time": "2022-07-18T10:05:44.252934",
     "status": "completed"
    },
    "tags": []
   },
   "outputs": [],
   "source": [
    "#testlink = 'https://www.ballouchi.com/annonces/vehicules/voitures/peugeot-301-16.html'\n",
    "Les_voitures = []\n",
    "for link in voitureslinks:\n",
    "    r = requests.get( detail_url + link , headers = headers)\n",
    "    soup = BeautifulSoup( r.content , 'lxml')\n",
    "    try:\n",
    "      name = soup.find('h1' , {'itemprop' : \"name\"}).text.strip()\n",
    "    except:\n",
    "      name = None\n",
    "    try:\n",
    "      price = soup.find('span' , {'itemprop' : \"price\"}).text.strip().replace(\"TND\",\"\")\n",
    "    except:\n",
    "      price = None\n",
    "    #les carasteristiques de la voiture\n",
    "    liste_des_caracteristiques = []\n",
    "\n",
    "    try:\n",
    "      caracteristique = soup.find_all('div' , {\"class\" : \"other_options bordercolor\"})\n",
    "    except:  \n",
    "      caracteristique = None\n",
    "    try:  \n",
    "      for item in caracteristique:\n",
    "            liste_des_caracteristiques.append(item)\n",
    "    except:\n",
    "          pass\n",
    "\n",
    "    try:\n",
    "      marque = liste_des_caracteristiques[0].find('span').text.strip().split('/')[0]\n",
    "    except:\n",
    "      marque = None\n",
    "    try:\n",
    "      modele = liste_des_caracteristiques[0].find('span').text.strip().split('/')[1]\n",
    "    except:\n",
    "      modele = None\n",
    "    try:  \n",
    "      Transmission = liste_des_caracteristiques[7].find(\"span\").text\n",
    "    except:\n",
    "      Transmission = None\n",
    "    try:    \n",
    "      Carburant = liste_des_caracteristiques[4].find(\"span\").text\n",
    "    except:\n",
    "      Carburant = None\n",
    "    try:  \n",
    "      Année = liste_des_caracteristiques[2].find(\"span\").text\n",
    "    except:\n",
    "      Année = None \n",
    "    try:  \n",
    "      Kilométrage = liste_des_caracteristiques[3].find(\"span\").text\n",
    "    except:\n",
    "      Kilométrage = None \n",
    "\n",
    "    voiture = {\n",
    "            \"name\" : name , \n",
    "            \"price\" : price , \n",
    "            \"marque\" : marque , \n",
    "            \"modele\" : modele , \n",
    "            \"Transmission\" : Transmission , \n",
    "            \"Carburant\" : Carburant ,\n",
    "            \"Annee\" : Année ,\n",
    "            \"Kilométrage\" : Kilométrage\n",
    "          }  \n",
    "    Les_voitures.append(voiture)"
   ]
  },
  {
   "cell_type": "code",
   "execution_count": 5,
   "id": "a0b924eb",
   "metadata": {
    "execution": {
     "iopub.execute_input": "2022-07-18T10:05:44.277691Z",
     "iopub.status.busy": "2022-07-18T10:05:44.277451Z",
     "iopub.status.idle": "2022-07-18T10:05:44.294018Z",
     "shell.execute_reply": "2022-07-18T10:05:44.293191Z"
    },
    "papermill": {
     "duration": 0.021611,
     "end_time": "2022-07-18T10:05:44.296025",
     "exception": false,
     "start_time": "2022-07-18T10:05:44.274414",
     "status": "completed"
    },
    "tags": []
   },
   "outputs": [
    {
     "data": {
      "text/html": [
       "<div>\n",
       "<style scoped>\n",
       "    .dataframe tbody tr th:only-of-type {\n",
       "        vertical-align: middle;\n",
       "    }\n",
       "\n",
       "    .dataframe tbody tr th {\n",
       "        vertical-align: top;\n",
       "    }\n",
       "\n",
       "    .dataframe thead th {\n",
       "        text-align: right;\n",
       "    }\n",
       "</style>\n",
       "<table border=\"1\" class=\"dataframe\">\n",
       "  <thead>\n",
       "    <tr style=\"text-align: right;\">\n",
       "      <th></th>\n",
       "    </tr>\n",
       "  </thead>\n",
       "  <tbody>\n",
       "  </tbody>\n",
       "</table>\n",
       "</div>"
      ],
      "text/plain": [
       "Empty DataFrame\n",
       "Columns: []\n",
       "Index: []"
      ]
     },
     "execution_count": 5,
     "metadata": {},
     "output_type": "execute_result"
    }
   ],
   "source": [
    "#putting the data scraped from web into dataframe\n",
    "df = pd.DataFrame(Les_voitures)\n",
    "df"
   ]
  },
  {
   "cell_type": "code",
   "execution_count": 6,
   "id": "672c7ea2",
   "metadata": {
    "execution": {
     "iopub.execute_input": "2022-07-18T10:05:44.301757Z",
     "iopub.status.busy": "2022-07-18T10:05:44.301503Z",
     "iopub.status.idle": "2022-07-18T10:05:44.307745Z",
     "shell.execute_reply": "2022-07-18T10:05:44.306872Z"
    },
    "papermill": {
     "duration": 0.011302,
     "end_time": "2022-07-18T10:05:44.309592",
     "exception": false,
     "start_time": "2022-07-18T10:05:44.298290",
     "status": "completed"
    },
    "tags": []
   },
   "outputs": [],
   "source": [
    "#dataset to csv file \n",
    "df.to_csv('Ballouchi.csv')"
   ]
  }
 ],
 "metadata": {
  "kernelspec": {
   "display_name": "Python 3",
   "language": "python",
   "name": "python3"
  },
  "language_info": {
   "codemirror_mode": {
    "name": "ipython",
    "version": 3
   },
   "file_extension": ".py",
   "mimetype": "text/x-python",
   "name": "python",
   "nbconvert_exporter": "python",
   "pygments_lexer": "ipython3",
   "version": "3.7.12"
  },
  "papermill": {
   "default_parameters": {},
   "duration": 90.418801,
   "end_time": "2022-07-18T10:05:44.830772",
   "environment_variables": {},
   "exception": null,
   "input_path": "__notebook__.ipynb",
   "output_path": "__notebook__.ipynb",
   "parameters": {},
   "start_time": "2022-07-18T10:04:14.411971",
   "version": "2.3.4"
  }
 },
 "nbformat": 4,
 "nbformat_minor": 5
}
