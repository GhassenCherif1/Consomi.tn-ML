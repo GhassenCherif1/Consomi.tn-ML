{
 "cells": [
  {
   "cell_type": "code",
   "execution_count": 3,
   "metadata": {},
   "outputs": [],
   "source": [
    "import numpy as np \n",
    "import pandas as pd\n",
    "import matplotlib.pyplot as plt\n",
    "import tensorflow as tf\n",
    "from tensorflow.keras.preprocessing.image import ImageDataGenerator,load_img\n",
    "from tensorflow.keras.utils import img_to_array\n",
    "import os\n",
    "import glob\n",
    "from random import shuffle\n",
    "from sklearn.metrics import classification_report, accuracy_score\n"
   ]
  },
  {
   "cell_type": "markdown",
   "metadata": {},
   "source": [
    "## Data Augmentation"
   ]
  },
  {
   "cell_type": "code",
   "execution_count": null,
   "metadata": {},
   "outputs": [],
   "source": [
    "# # Define data augmentation parameters (adjust as needed)\n",
    "# datagen = ImageDataGenerator(\n",
    "#     rotation_range=20,  \n",
    "#     shear_range=0.2,     \n",
    "#     zoom_range=0.2,      \n",
    "#     horizontal_flip=True, \n",
    "#     brightness_range=(0.5, 1.5)  # Adjust brightness range\n",
    "# )\n",
    "\n",
    "# # Define path to your image folder\n",
    "# image_dir = \"Train/Tv\"\n",
    "\n",
    "# # Define output directory for augmented images (create if it doesn't exist)\n",
    "# save_to_dir = \"Train/Tv\"\n",
    "\n",
    "# # Loop through each image in the folder\n",
    "# for filename in os.listdir(image_dir):\n",
    "#     # Load the image\n",
    "#     img = load_img(os.path.join(image_dir, filename))\n",
    "\n",
    "#     # Convert to array\n",
    "#     x = img_to_array(img)\n",
    "\n",
    "#     # Reshape (optional, based on your model's requirements)\n",
    "#     x = x.reshape((1,) + x.shape)  # Reshape if your model expects a specific format\n",
    "\n",
    "#     # Generate and save augmented images\n",
    "#     i = 0\n",
    "#     for batch in datagen.flow(x, batch_size=1, save_to_dir=save_to_dir, save_prefix=\"aug_\", save_format=\"jpeg\"):\n",
    "#         i += 1\n",
    "#         # You can adjust the number of augmented images per original image here (e.g., i > 5)\n",
    "#         if i > 1:\n",
    "#             break\n",
    "# print(f\"Successfully augmented and saved images to {save_to_dir}\")\n"
   ]
  },
  {
   "cell_type": "markdown",
   "metadata": {},
   "source": [
    "## Modeling"
   ]
  },
  {
   "cell_type": "code",
   "execution_count": 2,
   "metadata": {},
   "outputs": [],
   "source": [
    "base_model = tf.keras.applications.MobileNetV2(input_shape=(224,224,3),weights=\"imagenet\",include_top=False)"
   ]
  },
  {
   "cell_type": "code",
   "execution_count": 3,
   "metadata": {},
   "outputs": [],
   "source": [
    "x = tf.keras.layers.GlobalAvgPool2D()(base_model.output)\n",
    "x = tf.keras.layers.Flatten()(x)\n",
    "x = tf.keras.layers.Dense(128,activation=\"relu\")(x)\n",
    "x = tf.keras.layers.Dropout(0.2)(x)\n",
    "x = tf.keras.layers.Dense(64,activation=\"relu\")(x)\n",
    "x = tf.keras.layers.Dropout(0.2)(x)\n",
    "x = tf.keras.layers.Dense(4,activation=\"softmax\")(x)\n",
    "\n",
    "model = tf.keras.Model(inputs = base_model.input , outputs = x)\n"
   ]
  },
  {
   "cell_type": "code",
   "execution_count": 4,
   "metadata": {},
   "outputs": [],
   "source": [
    "#freezing the original model's layers\n",
    "for layer in base_model.layers:\n",
    "    layer.trainable = False"
   ]
  },
  {
   "cell_type": "code",
   "execution_count": 5,
   "metadata": {},
   "outputs": [],
   "source": [
    "model.compile(optimizer=\"adam\",loss=\"sparse_categorical_crossentropy\",metrics=[\"accuracy\"])"
   ]
  },
  {
   "cell_type": "code",
   "execution_count": 6,
   "metadata": {},
   "outputs": [],
   "source": [
    "# define the directory containing training images\n",
    "target_size = (224, 224)\n",
    "\n",
    "# initialize lists to store images and labels\n",
    "images = []\n",
    "labels = []\n",
    "\n",
    "for filename in os.listdir(\"Train/Laptop\"):\n",
    "    if filename.endswith('.jpg') or filename.endswith(\"png\") or filename.endswith(\"jpeg\"):\n",
    "        # load and preprocess the image\n",
    "        img = tf.keras.preprocessing.image.load_img(os.path.join(\"Train/Laptop\", filename), target_size=target_size)\n",
    "        img_array = tf.keras.preprocessing.image.img_to_array(img)\n",
    "        img_array = tf.keras.applications.mobilenet_v2.preprocess_input(img_array)\n",
    "        \n",
    "       # add the preprocessed image to the list of images\n",
    "        images.append(img_array)\n",
    "        labels.append(0)\n",
    "for filename in os.listdir(\"Train/Printer\"):\n",
    "    if filename.endswith('.jpg') or filename.endswith(\"png\") or filename.endswith(\"jpeg\"):\n",
    "        # load and preprocess the image\n",
    "        img = tf.keras.preprocessing.image.load_img(os.path.join(\"Train/Printer\", filename), target_size=target_size)\n",
    "        img_array = tf.keras.preprocessing.image.img_to_array(img)\n",
    "        img_array = tf.keras.applications.mobilenet_v2.preprocess_input(img_array)\n",
    "        \n",
    "       # add the preprocessed image to the list of images\n",
    "        images.append(img_array)\n",
    "        labels.append(1)\n",
    "for filename in os.listdir(\"Train/Smartphone\"):\n",
    "    if filename.endswith('.jpg') or filename.endswith(\"png\") or filename.endswith(\"jpeg\"):\n",
    "        # load and preprocess the image\n",
    "        img = tf.keras.preprocessing.image.load_img(os.path.join(\"Train/Smartphone\", filename), target_size=target_size)\n",
    "        img_array = tf.keras.preprocessing.image.img_to_array(img)\n",
    "        img_array = tf.keras.applications.mobilenet_v2.preprocess_input(img_array)\n",
    "        \n",
    "       # add the preprocessed image to the list of images\n",
    "        images.append(img_array)\n",
    "        labels.append(2)\n",
    "for filename in os.listdir(\"Train/Tv\"):\n",
    "    if filename.endswith('.jpg') or filename.endswith(\"png\") or filename.endswith(\"jpeg\"):\n",
    "        # load and preprocess the image\n",
    "        img = tf.keras.preprocessing.image.load_img(os.path.join(\"Train/Tv\", filename), target_size=target_size)\n",
    "        img_array = tf.keras.preprocessing.image.img_to_array(img)\n",
    "        img_array = tf.keras.applications.mobilenet_v2.preprocess_input(img_array)\n",
    "        \n",
    "       # add the preprocessed image to the list of images\n",
    "        images.append(img_array)\n",
    "        labels.append(3)\n",
    "        \n",
    "# convert lists to numpy arrays\n",
    "X_train = np.array(images)\n",
    "Y_train = np.array(labels)"
   ]
  },
  {
   "cell_type": "code",
   "execution_count": 7,
   "metadata": {},
   "outputs": [
    {
     "data": {
      "text/plain": [
       "(7294, 224, 224, 3)"
      ]
     },
     "execution_count": 7,
     "metadata": {},
     "output_type": "execute_result"
    }
   ],
   "source": [
    "X_train.shape"
   ]
  },
  {
   "cell_type": "code",
   "execution_count": 8,
   "metadata": {},
   "outputs": [],
   "source": [
    "# Combine data and labels into a single list\n",
    "data_and_labels = list(zip(X_train, Y_train))\n",
    "\n",
    "# Shuffle the combined list\n",
    "shuffle(data_and_labels)\n",
    "\n",
    "# Extract shuffled images and labels back into separate arrays\n",
    "X_train, Y_train = zip(*data_and_labels)\n",
    "\n",
    "# Convert back to NumPy arrays if necessary\n",
    "X_train = np.array(X_train)\n",
    "Y_train = np.array(Y_train)"
   ]
  },
  {
   "cell_type": "code",
   "execution_count": 9,
   "metadata": {},
   "outputs": [
    {
     "name": "stdout",
     "output_type": "stream",
     "text": [
      "Epoch 1/10\n",
      "\u001b[1m228/228\u001b[0m \u001b[32m━━━━━━━━━━━━━━━━━━━━\u001b[0m\u001b[37m\u001b[0m \u001b[1m97s\u001b[0m 382ms/step - accuracy: 0.7950 - loss: 0.5381\n",
      "Epoch 2/10\n",
      "\u001b[1m228/228\u001b[0m \u001b[32m━━━━━━━━━━━━━━━━━━━━\u001b[0m\u001b[37m\u001b[0m \u001b[1m83s\u001b[0m 365ms/step - accuracy: 0.9481 - loss: 0.1503\n",
      "Epoch 3/10\n",
      "\u001b[1m228/228\u001b[0m \u001b[32m━━━━━━━━━━━━━━━━━━━━\u001b[0m\u001b[37m\u001b[0m \u001b[1m85s\u001b[0m 375ms/step - accuracy: 0.9629 - loss: 0.1075\n",
      "Epoch 4/10\n",
      "\u001b[1m228/228\u001b[0m \u001b[32m━━━━━━━━━━━━━━━━━━━━\u001b[0m\u001b[37m\u001b[0m \u001b[1m95s\u001b[0m 418ms/step - accuracy: 0.9776 - loss: 0.0714\n",
      "Epoch 5/10\n",
      "\u001b[1m228/228\u001b[0m \u001b[32m━━━━━━━━━━━━━━━━━━━━\u001b[0m\u001b[37m\u001b[0m \u001b[1m93s\u001b[0m 406ms/step - accuracy: 0.9838 - loss: 0.0500\n",
      "Epoch 6/10\n",
      "\u001b[1m228/228\u001b[0m \u001b[32m━━━━━━━━━━━━━━━━━━━━\u001b[0m\u001b[37m\u001b[0m \u001b[1m83s\u001b[0m 363ms/step - accuracy: 0.9838 - loss: 0.0488\n",
      "Epoch 7/10\n",
      "\u001b[1m228/228\u001b[0m \u001b[32m━━━━━━━━━━━━━━━━━━━━\u001b[0m\u001b[37m\u001b[0m \u001b[1m90s\u001b[0m 395ms/step - accuracy: 0.9897 - loss: 0.0307\n",
      "Epoch 8/10\n",
      "\u001b[1m228/228\u001b[0m \u001b[32m━━━━━━━━━━━━━━━━━━━━\u001b[0m\u001b[37m\u001b[0m \u001b[1m100s\u001b[0m 440ms/step - accuracy: 0.9894 - loss: 0.0335\n",
      "Epoch 9/10\n",
      "\u001b[1m228/228\u001b[0m \u001b[32m━━━━━━━━━━━━━━━━━━━━\u001b[0m\u001b[37m\u001b[0m \u001b[1m78s\u001b[0m 340ms/step - accuracy: 0.9944 - loss: 0.0189\n",
      "Epoch 10/10\n",
      "\u001b[1m228/228\u001b[0m \u001b[32m━━━━━━━━━━━━━━━━━━━━\u001b[0m\u001b[37m\u001b[0m \u001b[1m103s\u001b[0m 453ms/step - accuracy: 0.9922 - loss: 0.0216\n"
     ]
    },
    {
     "data": {
      "text/plain": [
       "<keras.src.callbacks.history.History at 0x1ae66e9a360>"
      ]
     },
     "execution_count": 9,
     "metadata": {},
     "output_type": "execute_result"
    }
   ],
   "source": [
    "model.fit(X_train,Y_train,epochs = 10)"
   ]
  },
  {
   "cell_type": "code",
   "execution_count": 10,
   "metadata": {},
   "outputs": [],
   "source": [
    "# define the directory containing training images\n",
    "target_size = (224, 224)\n",
    "\n",
    "# initialize lists to store images and labels\n",
    "images = []\n",
    "labels = []\n",
    "\n",
    "for filename in os.listdir(\"Test/Laptop\"):\n",
    "    if filename.endswith('.jpg') or filename.endswith(\"png\") or filename.endswith(\"jpeg\"):\n",
    "        # load and preprocess the image\n",
    "        img = tf.keras.preprocessing.image.load_img(os.path.join(\"Test/Laptop\", filename), target_size=target_size)\n",
    "        img_array = tf.keras.preprocessing.image.img_to_array(img)\n",
    "        img_array = tf.keras.applications.mobilenet_v2.preprocess_input(img_array)\n",
    "        \n",
    "       # add the preprocessed image to the list of images\n",
    "        images.append(img_array)\n",
    "        labels.append(0)\n",
    "for filename in os.listdir(\"Test/Printer\"):\n",
    "    if filename.endswith('.jpg') or filename.endswith(\"png\") or filename.endswith(\"jpeg\"):\n",
    "        # load and preprocess the image\n",
    "        img = tf.keras.preprocessing.image.load_img(os.path.join(\"Test/Printer\", filename), target_size=target_size)\n",
    "        img_array = tf.keras.preprocessing.image.img_to_array(img)\n",
    "        img_array = tf.keras.applications.mobilenet_v2.preprocess_input(img_array)\n",
    "        \n",
    "       # add the preprocessed image to the list of images\n",
    "        images.append(img_array)\n",
    "        labels.append(1)\n",
    "for filename in os.listdir(\"Test/Smartphone\"):\n",
    "    if filename.endswith('.jpg') or filename.endswith(\"png\") or filename.endswith(\"jpeg\"):\n",
    "        # load and preprocess the image\n",
    "        img = tf.keras.preprocessing.image.load_img(os.path.join(\"Test/Smartphone\", filename), target_size=target_size)\n",
    "        img_array = tf.keras.preprocessing.image.img_to_array(img)\n",
    "        img_array = tf.keras.applications.mobilenet_v2.preprocess_input(img_array)\n",
    "        \n",
    "       # add the preprocessed image to the list of images\n",
    "        images.append(img_array)\n",
    "        labels.append(2)\n",
    "for filename in os.listdir(\"Test/Tv\"):\n",
    "    if filename.endswith('.jpg') or filename.endswith(\"png\") or filename.endswith(\"jpeg\"):\n",
    "        # load and preprocess the image\n",
    "        img = tf.keras.preprocessing.image.load_img(os.path.join(\"Test/Tv\", filename), target_size=target_size)\n",
    "        img_array = tf.keras.preprocessing.image.img_to_array(img)\n",
    "        img_array = tf.keras.applications.mobilenet_v2.preprocess_input(img_array)\n",
    "        \n",
    "       # add the preprocessed image to the list of images\n",
    "        images.append(img_array)\n",
    "        labels.append(3)\n",
    "        \n",
    "# convert lists to numpy arrays\n",
    "X_test = np.array(images)\n",
    "Y_test = np.array(labels)"
   ]
  },
  {
   "cell_type": "code",
   "execution_count": 11,
   "metadata": {},
   "outputs": [
    {
     "data": {
      "text/plain": [
       "(505, 224, 224, 3)"
      ]
     },
     "execution_count": 11,
     "metadata": {},
     "output_type": "execute_result"
    }
   ],
   "source": [
    "X_test.shape"
   ]
  },
  {
   "cell_type": "code",
   "execution_count": 12,
   "metadata": {},
   "outputs": [
    {
     "name": "stdout",
     "output_type": "stream",
     "text": [
      "\u001b[1m16/16\u001b[0m \u001b[32m━━━━━━━━━━━━━━━━━━━━\u001b[0m\u001b[37m\u001b[0m \u001b[1m10s\u001b[0m 521ms/step\n"
     ]
    }
   ],
   "source": [
    "predictions_array = model.predict(X_test)"
   ]
  },
  {
   "cell_type": "code",
   "execution_count": 13,
   "metadata": {},
   "outputs": [],
   "source": [
    "predictions = np.argmax(predictions_array,axis=1)"
   ]
  },
  {
   "cell_type": "code",
   "execution_count": 20,
   "metadata": {},
   "outputs": [
    {
     "data": {
      "text/plain": [
       "array([1, 1, 1, 3, 1, 1, 1, 1, 1, 1, 1, 1, 1, 1, 1, 1, 3, 1, 1, 1, 1, 1,\n",
       "       1, 1, 1, 1, 1, 1, 1, 1, 1, 1, 1, 1, 1, 1, 1, 1, 1, 1, 1, 1, 1, 1,\n",
       "       1, 1, 1, 1, 1, 1, 1, 1, 1, 1, 1, 1, 0, 1, 1, 1, 1, 1, 1, 1, 1, 1,\n",
       "       1, 1, 1, 1, 1, 1, 1, 1, 1, 1, 1, 1, 1, 1, 1, 1, 1, 1, 1, 1, 1, 0,\n",
       "       1, 1, 1, 2, 1, 1, 1, 1, 1, 1, 1, 1, 1, 1, 1, 1, 1, 1, 1, 1, 0, 1,\n",
       "       1, 1, 1, 3, 1, 1, 1, 1, 1, 1, 1, 1, 0, 1, 1, 1, 1, 1, 1, 1, 1, 1,\n",
       "       1, 1, 1, 1, 1, 1, 1, 1, 1, 1, 1, 1, 1, 1], dtype=int64)"
      ]
     },
     "execution_count": 20,
     "metadata": {},
     "output_type": "execute_result"
    }
   ],
   "source": [
    "predictions[42:42+146]"
   ]
  },
  {
   "cell_type": "code",
   "execution_count": 15,
   "metadata": {},
   "outputs": [
    {
     "name": "stdout",
     "output_type": "stream",
     "text": [
      "Accuracy: 0.9643564\n"
     ]
    }
   ],
   "source": [
    "#Overall \n",
    "accuracy_metric = tf.keras.metrics.Accuracy()\n",
    "accuracy_metric.update_state(Y_test,predictions)\n",
    "accuracy = accuracy_metric.result().numpy()\n",
    "print(\"Accuracy:\", accuracy)"
   ]
  },
  {
   "cell_type": "code",
   "execution_count": 16,
   "metadata": {},
   "outputs": [
    {
     "name": "stdout",
     "output_type": "stream",
     "text": [
      "Accuracy: 0.97619045\n"
     ]
    }
   ],
   "source": [
    "#Laptop\n",
    "accuracy_metric = tf.keras.metrics.Accuracy()\n",
    "accuracy_metric.update_state(Y_test[:42],predictions[:42])\n",
    "accuracy = accuracy_metric.result().numpy()\n",
    "print(\"Accuracy:\", accuracy)"
   ]
  },
  {
   "cell_type": "code",
   "execution_count": 17,
   "metadata": {},
   "outputs": [
    {
     "name": "stdout",
     "output_type": "stream",
     "text": [
      "Accuracy: 0.94520545\n"
     ]
    }
   ],
   "source": [
    "#Printer\n",
    "accuracy_metric = tf.keras.metrics.Accuracy()\n",
    "accuracy_metric.update_state(Y_test[42:42+146],predictions[42:42+146])\n",
    "accuracy = accuracy_metric.result().numpy()\n",
    "print(\"Accuracy:\", accuracy)"
   ]
  },
  {
   "cell_type": "code",
   "execution_count": 18,
   "metadata": {},
   "outputs": [
    {
     "name": "stdout",
     "output_type": "stream",
     "text": [
      "Accuracy: 0.9739583\n"
     ]
    }
   ],
   "source": [
    "#Smartphone\n",
    "accuracy_metric = tf.keras.metrics.Accuracy()\n",
    "accuracy_metric.update_state(Y_test[42+146:42+146+192],predictions[42+146:42+146+192])\n",
    "accuracy = accuracy_metric.result().numpy()\n",
    "print(\"Accuracy:\", accuracy)"
   ]
  },
  {
   "cell_type": "code",
   "execution_count": 19,
   "metadata": {},
   "outputs": [
    {
     "name": "stdout",
     "output_type": "stream",
     "text": [
      "Accuracy: 0.968\n"
     ]
    }
   ],
   "source": [
    "#Tv\n",
    "accuracy_metric = tf.keras.metrics.Accuracy()\n",
    "accuracy_metric.update_state(Y_test[42+146+192:],predictions[42+146+192:])\n",
    "accuracy = accuracy_metric.result().numpy()\n",
    "print(\"Accuracy:\", accuracy)"
   ]
  },
  {
   "cell_type": "code",
   "execution_count": 24,
   "metadata": {},
   "outputs": [],
   "source": [
    "# model.save(\"ItModelV1.keras\")"
   ]
  },
  {
   "cell_type": "code",
   "execution_count": 7,
   "metadata": {},
   "outputs": [
    {
     "name": "stderr",
     "output_type": "stream",
     "text": [
      "c:\\Users\\ghass\\anaconda3\\envs\\yolo\\Lib\\site-packages\\keras\\src\\saving\\saving_lib.py:396: UserWarning: Skipping variable loading for optimizer 'adam', because it has 326 variables whereas the saved optimizer has 14 variables. \n",
      "  trackable.load_own_variables(weights_store.get(inner_path))\n"
     ]
    }
   ],
   "source": [
    "model = tf.keras.models.load_model(\"ItModelV1.keras\")"
   ]
  },
  {
   "cell_type": "code",
   "execution_count": 8,
   "metadata": {},
   "outputs": [
    {
     "data": {
      "text/plain": [
       "['Train\\\\Laptop', 'Train\\\\Printer', 'Train\\\\Smartphone', 'Train\\\\Tv']"
      ]
     },
     "execution_count": 8,
     "metadata": {},
     "output_type": "execute_result"
    }
   ],
   "source": [
    "train_Path = \"Train\"\n",
    "IMAGE_SIZE = (224,224)\n",
    "folders = glob.glob(train_Path + '/*')\n",
    "folders"
   ]
  },
  {
   "cell_type": "code",
   "execution_count": 9,
   "metadata": {},
   "outputs": [
    {
     "name": "stdout",
     "output_type": "stream",
     "text": [
      "Found 505 images belonging to 4 classes.\n"
     ]
    }
   ],
   "source": [
    "test_datagen = ImageDataGenerator(rescale=1./225)\n",
    "test_Path = \"Test\"\n",
    "test_set = test_datagen.flow_from_directory(\n",
    "    test_Path,  # Use your test data directory here\n",
    "    target_size=IMAGE_SIZE,\n",
    "    batch_size=32,\n",
    "    class_mode='categorical',\n",
    "    shuffle = False\n",
    ")"
   ]
  },
  {
   "cell_type": "code",
   "execution_count": 10,
   "metadata": {},
   "outputs": [
    {
     "name": "stderr",
     "output_type": "stream",
     "text": [
      "c:\\Users\\ghass\\anaconda3\\envs\\yolo\\Lib\\site-packages\\keras\\src\\trainers\\data_adapters\\py_dataset_adapter.py:120: UserWarning: Your `PyDataset` class should call `super().__init__(**kwargs)` in its constructor. `**kwargs` can include `workers`, `use_multiprocessing`, `max_queue_size`. Do not pass these arguments to `fit()`, as they will be ignored.\n",
      "  self._warn_if_super_not_called()\n"
     ]
    },
    {
     "name": "stdout",
     "output_type": "stream",
     "text": [
      "\u001b[1m16/16\u001b[0m \u001b[32m━━━━━━━━━━━━━━━━━━━━\u001b[0m\u001b[37m\u001b[0m \u001b[1m11s\u001b[0m 587ms/step\n",
      "              precision    recall  f1-score   support\n",
      "\n",
      "      Laptop       0.83      0.93      0.88        42\n",
      "     Printer       0.99      0.97      0.98       146\n",
      "  Smartphone       0.97      0.98      0.98       192\n",
      "          Tv       0.97      0.95      0.96       125\n",
      "\n",
      "    accuracy                           0.96       505\n",
      "   macro avg       0.94      0.96      0.95       505\n",
      "weighted avg       0.97      0.96      0.96       505\n",
      "\n"
     ]
    }
   ],
   "source": [
    "test_labels = test_set.classes\n",
    "\n",
    "# Predict the labels for the test set\n",
    "predictions = model.predict(test_set, steps=len(test_set))\n",
    "predicted_classes = np.argmax(predictions, axis=1)\n",
    "\n",
    "# Get the class indices to labels mapping\n",
    "class_labels = list(test_set.class_indices.keys())\n",
    "\n",
    "# Print classification report\n",
    "report = classification_report(test_labels, predicted_classes, target_names=class_labels)\n",
    "print(report)"
   ]
  },
  {
   "cell_type": "code",
   "execution_count": null,
   "metadata": {},
   "outputs": [],
   "source": []
  }
 ],
 "metadata": {
  "kernelspec": {
   "display_name": "yolo",
   "language": "python",
   "name": "python3"
  },
  "language_info": {
   "codemirror_mode": {
    "name": "ipython",
    "version": 3
   },
   "file_extension": ".py",
   "mimetype": "text/x-python",
   "name": "python",
   "nbconvert_exporter": "python",
   "pygments_lexer": "ipython3",
   "version": "3.12.2"
  }
 },
 "nbformat": 4,
 "nbformat_minor": 2
}
