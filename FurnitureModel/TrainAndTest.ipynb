{
 "cells": [
  {
   "cell_type": "code",
   "execution_count": 78,
   "metadata": {},
   "outputs": [],
   "source": [
    "import numpy as np \n",
    "import pandas as pd\n",
    "import matplotlib.pyplot as plt\n",
    "import os\n",
    "import uuid\n",
    "import shutil\n",
    "import glob\n",
    "import tensorflow as tf\n",
    "from tensorflow.keras.preprocessing.image import ImageDataGenerator , load_img , img_to_array\n",
    "from tensorflow.keras.optimizers import Adam\n",
    "from tensorflow.keras.losses import CategoricalCrossentropy"
   ]
  },
  {
   "cell_type": "code",
   "execution_count": 79,
   "metadata": {},
   "outputs": [],
   "source": [
    "tf.keras.backend.clear_session()"
   ]
  },
  {
   "cell_type": "markdown",
   "metadata": {},
   "source": [
    "## Data Augmentation"
   ]
  },
  {
   "cell_type": "code",
   "execution_count": 80,
   "metadata": {},
   "outputs": [],
   "source": [
    "# # Define data augmentation parameters (adjust as needed)\n",
    "# datagen = ImageDataGenerator(\n",
    "#     rotation_range=25,  # Rotate images by up to 40 degrees\n",
    "#     shear_range=0.25,     # Shear by up to 20%\n",
    "#     zoom_range=0.25,      # Zoom by up to 20%\n",
    "#     horizontal_flip=True, # Randomly flip images horizontally\n",
    "#     brightness_range=(0.5, 1.5)  # Adjust brightness range\n",
    "# )\n",
    "\n",
    "# # Define path to your image folder\n",
    "# image_dir = \"Train/SwivelChair\"\n",
    "\n",
    "# # Define output directory for augmented images (create if it doesn't exist)\n",
    "# save_to_dir = \"Train/SwivelChair\"\n",
    "# import os\n",
    "# os.makedirs(save_to_dir, exist_ok=True)  # Create directory if it doesn't exist\n",
    "\n",
    "# # Loop through each image in the folder\n",
    "# for filename in os.listdir(image_dir):\n",
    "#     # Load the image\n",
    "#     img = load_img(os.path.join(image_dir, filename))\n",
    "\n",
    "#     # Convert to array\n",
    "#     x = img_to_array(img)\n",
    "\n",
    "#     # Reshape (optional, based on your model's requirements)\n",
    "#     x = x.reshape((1,) + x.shape)  # Reshape if your model expects a specific format\n",
    "\n",
    "#     # Generate and save augmented images\n",
    "#     i = 0\n",
    "#     for batch in datagen.flow(x, batch_size=1, save_to_dir=save_to_dir, save_prefix=\"aug_\", save_format=\"jpeg\"):\n",
    "#         i += 1\n",
    "#         # You can adjust the number of augmented images per original image here (e.g., i > 5)\n",
    "#         if i > 2:\n",
    "#             break\n",
    "# print(f\"Successfully augmented and saved images to {save_to_dir}\")\n"
   ]
  },
  {
   "cell_type": "markdown",
   "metadata": {},
   "source": [
    "## Modeling"
   ]
  },
  {
   "cell_type": "code",
   "execution_count": 81,
   "metadata": {},
   "outputs": [],
   "source": [
    "base_model = tf.keras.applications.MobileNetV2(input_shape=(224,224,3),weights=\"imagenet\",include_top=False)"
   ]
  },
  {
   "cell_type": "code",
   "execution_count": 82,
   "metadata": {},
   "outputs": [],
   "source": [
    "x = tf.keras.layers.GlobalAvgPool2D()(base_model.output)\n",
    "x = tf.keras.layers.Flatten()(x)\n",
    "x = tf.keras.layers.Dense(128,activation=\"relu\")(x)\n",
    "x = tf.keras.layers.Dropout(0.2)(x)\n",
    "x = tf.keras.layers.Dense(64,activation=\"relu\")(x)\n",
    "x = tf.keras.layers.Dropout(0.2)(x)\n",
    "x = tf.keras.layers.Dense(5,activation=\"softmax\")(x)\n",
    "\n",
    "model = tf.keras.Model(inputs = base_model.input , outputs = x)\n"
   ]
  },
  {
   "cell_type": "code",
   "execution_count": 83,
   "metadata": {},
   "outputs": [],
   "source": [
    "#freezing the original model's layers\n",
    "for layer in base_model.layers:\n",
    "    layer.trainable = False"
   ]
  },
  {
   "cell_type": "code",
   "execution_count": 84,
   "metadata": {},
   "outputs": [],
   "source": [
    "model.compile(optimizer=Adam(learning_rate=0.001),\n",
    "              loss=CategoricalCrossentropy(from_logits=True),  # Adjust if needed\n",
    "              metrics=['accuracy'])"
   ]
  },
  {
   "cell_type": "code",
   "execution_count": 85,
   "metadata": {},
   "outputs": [
    {
     "data": {
      "text/plain": [
       "['Train\\\\Bed',\n",
       " 'Train\\\\Chair',\n",
       " 'Train\\\\Sofa',\n",
       " 'Train\\\\SwivelChair',\n",
       " 'Train\\\\Table']"
      ]
     },
     "execution_count": 85,
     "metadata": {},
     "output_type": "execute_result"
    }
   ],
   "source": [
    "train_Path = \"Train\"\n",
    "IMAGE_SIZE = (224,224)\n",
    "folders = glob.glob(train_Path + '/*')\n",
    "folders"
   ]
  },
  {
   "cell_type": "code",
   "execution_count": 217,
   "metadata": {},
   "outputs": [],
   "source": [
    "labels = [\"Bed\",\"Chair\",\"Sofa\",\"SwivelChair\",\"Table\"]"
   ]
  },
  {
   "cell_type": "code",
   "execution_count": 87,
   "metadata": {},
   "outputs": [
    {
     "name": "stdout",
     "output_type": "stream",
     "text": [
      "Found 9829 images belonging to 5 classes.\n"
     ]
    }
   ],
   "source": [
    "train_datagen = ImageDataGenerator(\n",
    "    rescale = 1./225,\n",
    "    shear_range = 0.2,\n",
    "    zoom_range = 0.2,\n",
    "    horizontal_flip = True\n",
    ")\n",
    "training_set = train_datagen.flow_from_directory(\n",
    "    train_Path,\n",
    "    target_size = IMAGE_SIZE,\n",
    "    batch_size = 32,\n",
    "    class_mode = 'categorical', # As we have more than 2 so using categorical.. for 2 we might have used binary.\n",
    "    shuffle = True\n",
    ")\n"
   ]
  },
  {
   "cell_type": "code",
   "execution_count": 88,
   "metadata": {},
   "outputs": [
    {
     "name": "stdout",
     "output_type": "stream",
     "text": [
      "Found 423 images belonging to 5 classes.\n"
     ]
    }
   ],
   "source": [
    "test_datagen = ImageDataGenerator(rescale=1./225)\n",
    "test_Path = \"Test\"\n",
    "test_set = test_datagen.flow_from_directory(\n",
    "    test_Path,  # Use your test data directory here\n",
    "    target_size=IMAGE_SIZE,\n",
    "    batch_size=32,\n",
    "    class_mode='categorical'\n",
    ")"
   ]
  },
  {
   "cell_type": "code",
   "execution_count": 89,
   "metadata": {},
   "outputs": [
    {
     "name": "stdout",
     "output_type": "stream",
     "text": [
      "Epoch 1/10\n",
      "\u001b[1m308/308\u001b[0m \u001b[32m━━━━━━━━━━━━━━━━━━━━\u001b[0m\u001b[37m\u001b[0m \u001b[1m210s\u001b[0m 654ms/step - accuracy: 0.8016 - loss: 0.5158 - val_accuracy: 0.9267 - val_loss: 0.2053\n",
      "Epoch 2/10\n"
     ]
    },
    {
     "name": "stderr",
     "output_type": "stream",
     "text": [
      "c:\\Users\\ghass\\anaconda3\\envs\\yolo\\Lib\\contextlib.py:158: UserWarning: Your input ran out of data; interrupting training. Make sure that your dataset or generator can generate at least `steps_per_epoch * epochs` batches. You may need to use the `.repeat()` function when building your dataset.\n",
      "  self.gen.throw(value)\n"
     ]
    },
    {
     "name": "stdout",
     "output_type": "stream",
     "text": [
      "\u001b[1m308/308\u001b[0m \u001b[32m━━━━━━━━━━━━━━━━━━━━\u001b[0m\u001b[37m\u001b[0m \u001b[1m5s\u001b[0m 17ms/step - accuracy: 0.0000e+00 - loss: 0.0000e+00 - val_accuracy: 0.9267 - val_loss: 0.2069\n",
      "Epoch 3/10\n",
      "\u001b[1m308/308\u001b[0m \u001b[32m━━━━━━━━━━━━━━━━━━━━\u001b[0m\u001b[37m\u001b[0m \u001b[1m204s\u001b[0m 655ms/step - accuracy: 0.9413 - loss: 0.1761 - val_accuracy: 0.9433 - val_loss: 0.1366\n",
      "Epoch 4/10\n",
      "\u001b[1m308/308\u001b[0m \u001b[32m━━━━━━━━━━━━━━━━━━━━\u001b[0m\u001b[37m\u001b[0m \u001b[1m5s\u001b[0m 17ms/step - accuracy: 0.0000e+00 - loss: 0.0000e+00 - val_accuracy: 0.9433 - val_loss: 0.1357\n",
      "Epoch 5/10\n",
      "\u001b[1m308/308\u001b[0m \u001b[32m━━━━━━━━━━━━━━━━━━━━\u001b[0m\u001b[37m\u001b[0m \u001b[1m201s\u001b[0m 642ms/step - accuracy: 0.9511 - loss: 0.1332 - val_accuracy: 0.9574 - val_loss: 0.1318\n",
      "Epoch 6/10\n",
      "\u001b[1m308/308\u001b[0m \u001b[32m━━━━━━━━━━━━━━━━━━━━\u001b[0m\u001b[37m\u001b[0m \u001b[1m5s\u001b[0m 15ms/step - accuracy: 0.0000e+00 - loss: 0.0000e+00 - val_accuracy: 0.9574 - val_loss: 0.1235\n",
      "Epoch 7/10\n",
      "\u001b[1m308/308\u001b[0m \u001b[32m━━━━━━━━━━━━━━━━━━━━\u001b[0m\u001b[37m\u001b[0m \u001b[1m196s\u001b[0m 628ms/step - accuracy: 0.9609 - loss: 0.1154 - val_accuracy: 0.9574 - val_loss: 0.1617\n",
      "Epoch 8/10\n",
      "\u001b[1m308/308\u001b[0m \u001b[32m━━━━━━━━━━━━━━━━━━━━\u001b[0m\u001b[37m\u001b[0m \u001b[1m5s\u001b[0m 15ms/step - accuracy: 0.0000e+00 - loss: 0.0000e+00 - val_accuracy: 0.9574 - val_loss: 0.1678\n",
      "Epoch 9/10\n",
      "\u001b[1m308/308\u001b[0m \u001b[32m━━━━━━━━━━━━━━━━━━━━\u001b[0m\u001b[37m\u001b[0m \u001b[1m197s\u001b[0m 632ms/step - accuracy: 0.9721 - loss: 0.0844 - val_accuracy: 0.9622 - val_loss: 0.1407\n",
      "Epoch 10/10\n",
      "\u001b[1m308/308\u001b[0m \u001b[32m━━━━━━━━━━━━━━━━━━━━\u001b[0m\u001b[37m\u001b[0m \u001b[1m5s\u001b[0m 15ms/step - accuracy: 0.0000e+00 - loss: 0.0000e+00 - val_accuracy: 0.9622 - val_loss: 0.1206\n"
     ]
    },
    {
     "data": {
      "text/plain": [
       "<keras.src.callbacks.history.History at 0x20f032c5730>"
      ]
     },
     "execution_count": 89,
     "metadata": {},
     "output_type": "execute_result"
    }
   ],
   "source": [
    "model.fit(training_set, epochs=10, steps_per_epoch=len(training_set),validation_data=test_set)"
   ]
  },
  {
   "cell_type": "code",
   "execution_count": 208,
   "metadata": {},
   "outputs": [
    {
     "name": "stdout",
     "output_type": "stream",
     "text": [
      "\u001b[1m14/14\u001b[0m \u001b[32m━━━━━━━━━━━━━━━━━━━━\u001b[0m\u001b[37m\u001b[0m \u001b[1m5s\u001b[0m 366ms/step\n"
     ]
    }
   ],
   "source": [
    "pred_test = model.predict(test_set, steps=len(test_set))"
   ]
  },
  {
   "cell_type": "code",
   "execution_count": 209,
   "metadata": {},
   "outputs": [],
   "source": [
    "predictions = np.argmax(pred_test,axis=1)"
   ]
  },
  {
   "cell_type": "code",
   "execution_count": 210,
   "metadata": {},
   "outputs": [
    {
     "data": {
      "text/plain": [
       "423"
      ]
     },
     "execution_count": 210,
     "metadata": {},
     "output_type": "execute_result"
    }
   ],
   "source": [
    "len(predictions)"
   ]
  },
  {
   "cell_type": "code",
   "execution_count": 211,
   "metadata": {},
   "outputs": [
    {
     "data": {
      "text/plain": [
       "array([4, 0, 3, 2, 2, 0, 1, 0, 0, 1, 2, 1, 3, 3, 0, 1, 0, 1, 1, 0, 3, 1,\n",
       "       1, 1, 1, 2, 1, 1, 0, 3, 1, 1, 3, 1, 2, 2, 2, 3, 2, 3, 2, 0, 1, 1,\n",
       "       2, 3, 1, 3, 0, 0, 1, 1, 2, 0, 3, 1, 0, 0, 2, 1, 0, 2, 3, 1, 1, 2,\n",
       "       0, 3, 3, 1, 3, 0, 1, 0, 3, 1, 2, 2, 2, 1, 2, 2, 0, 1, 1, 0, 0, 0,\n",
       "       0, 1, 1, 0, 2, 0, 1, 0, 1, 0, 4, 1, 1, 0, 0, 2, 0, 3, 0, 1, 3, 0,\n",
       "       3, 0, 2, 3, 3, 2, 4, 0, 2, 3, 3, 2, 1, 3, 3, 0, 4, 0, 3, 0, 0, 0,\n",
       "       0, 2, 4, 1, 2, 3, 1, 2, 0, 0, 0, 1, 0, 2, 0, 3, 0, 1, 2, 3, 3, 1,\n",
       "       1, 2, 3, 0, 3, 2, 1, 0, 4, 3, 1, 1, 0, 0, 4, 0, 3, 3, 1, 2, 2, 2,\n",
       "       2, 4, 3, 1, 2, 1, 3, 3, 3, 1, 0, 2, 2, 1, 1, 1, 2, 3, 2, 1, 0, 2,\n",
       "       2, 2, 0, 3, 3, 0, 0, 1, 3, 2, 2, 1, 1, 1, 1, 2, 2, 1, 0, 2, 2, 3,\n",
       "       0, 3, 2, 0, 2, 3, 3, 1, 3, 1, 0, 1, 4, 0, 2, 4, 0, 3, 4, 1, 4, 1,\n",
       "       1, 0, 1, 3, 1, 0, 2, 0, 0, 2, 3, 0, 3, 2, 2, 0, 2, 3, 1, 2, 4, 1,\n",
       "       1, 4, 2, 3, 1, 0, 2, 3, 2, 3, 3, 3, 3, 3, 0, 1, 3, 0, 3, 0, 2, 2,\n",
       "       3, 1, 3, 2, 1, 1, 1, 4, 0, 1, 1, 2, 0, 2, 2, 1, 0, 3, 2, 4, 3, 4,\n",
       "       4, 0, 0, 3, 4, 2, 3, 3, 2, 2, 0, 1, 2, 2, 2, 4, 2, 0, 1, 0, 3, 0,\n",
       "       3, 0, 2, 0, 2, 0, 2, 0, 2, 1, 0, 3, 2, 0, 0, 2, 3, 3, 2, 3, 1, 1,\n",
       "       3, 1, 0, 4, 3, 3, 2, 0, 3, 3, 2, 0, 4, 1, 2, 2, 1, 3, 0, 2, 3, 0,\n",
       "       4, 3, 3, 2, 1, 3, 2, 3, 3, 2, 4, 2, 2, 1, 0, 2, 3, 2, 3, 3, 3, 1,\n",
       "       0, 1, 1, 0, 4, 0, 2, 1, 0, 0, 1, 0, 2, 3, 0, 1, 3, 1, 2, 0, 0, 2,\n",
       "       4, 4, 0, 0, 3], dtype=int64)"
      ]
     },
     "execution_count": 211,
     "metadata": {},
     "output_type": "execute_result"
    }
   ],
   "source": [
    "predictions"
   ]
  },
  {
   "cell_type": "code",
   "execution_count": 212,
   "metadata": {},
   "outputs": [],
   "source": [
    "labels = np.empty(0)  # Initialize an empty array\n",
    "for i in range(14):\n",
    "    label = np.argmax(test_set[i][1], axis=1)  # Extract predictions\n",
    "    labels = np.concatenate((labels, label))"
   ]
  },
  {
   "cell_type": "code",
   "execution_count": 213,
   "metadata": {},
   "outputs": [
    {
     "data": {
      "text/plain": [
       "array([0., 1., 3., 4., 2., 0., 2., 3., 0., 3., 2., 3., 1., 3., 3., 0., 0.,\n",
       "       1., 1., 3., 1., 3., 2., 3., 1., 3., 2., 2., 2., 2., 0., 4., 1., 0.,\n",
       "       3., 0., 2., 2., 3., 0., 2., 2., 1., 0., 3., 1., 1., 0., 0., 1., 4.,\n",
       "       4., 3., 1., 1., 0., 1., 3., 4., 2., 0., 2., 1., 2., 3., 2., 1., 1.,\n",
       "       3., 0., 4., 0., 0., 3., 2., 3., 0., 0., 1., 3., 0., 2., 1., 1., 1.,\n",
       "       2., 2., 2., 4., 3., 3., 0., 3., 2., 0., 1., 0., 2., 0., 0., 3., 1.,\n",
       "       2., 2., 0., 0., 1., 1., 1., 3., 0., 3., 0., 1., 2., 3., 2., 3., 3.,\n",
       "       3., 2., 3., 3., 2., 0., 3., 3., 0., 0., 1., 3., 1., 4., 0., 2., 1.,\n",
       "       3., 4., 0., 0., 0., 0., 1., 0., 0., 2., 3., 1., 0., 2., 0., 3., 3.,\n",
       "       1., 2., 0., 1., 0., 0., 0., 3., 2., 2., 0., 1., 3., 3., 1., 3., 4.,\n",
       "       3., 1., 0., 1., 3., 1., 4., 2., 3., 2., 3., 2., 2., 4., 3., 0., 3.,\n",
       "       3., 3., 3., 2., 1., 2., 2., 0., 2., 2., 1., 4., 1., 1., 3., 2., 2.,\n",
       "       3., 0., 2., 0., 2., 1., 0., 4., 3., 2., 2., 0., 0., 3., 2., 0., 2.,\n",
       "       0., 0., 2., 3., 2., 2., 0., 3., 1., 1., 3., 2., 1., 1., 2., 0., 1.,\n",
       "       1., 2., 3., 0., 1., 0., 0., 1., 1., 0., 3., 2., 3., 4., 2., 1., 3.,\n",
       "       2., 3., 3., 0., 4., 2., 2., 1., 0., 1., 2., 2., 3., 1., 2., 0., 2.,\n",
       "       2., 2., 0., 3., 2., 1., 1., 0., 2., 2., 3., 2., 1., 1., 1., 3., 0.,\n",
       "       3., 0., 1., 1., 1., 1., 0., 2., 0., 0., 0., 1., 3., 2., 0., 2., 4.,\n",
       "       3., 3., 0., 0., 2., 2., 0., 0., 0., 2., 3., 2., 2., 2., 2., 2., 1.,\n",
       "       3., 1., 0., 1., 0., 3., 2., 0., 3., 1., 1., 3., 3., 0., 2., 2., 2.,\n",
       "       4., 1., 2., 3., 3., 1., 0., 0., 0., 3., 1., 3., 1., 4., 2., 3., 3.,\n",
       "       1., 3., 4., 3., 3., 1., 3., 4., 4., 0., 1., 1., 1., 3., 2., 1., 1.,\n",
       "       1., 2., 3., 2., 3., 1., 1., 3., 2., 1., 1., 3., 0., 0., 2., 4., 0.,\n",
       "       0., 1., 1., 0., 2., 1., 1., 2., 1., 1., 3., 3., 1., 1., 1., 3., 3.,\n",
       "       0., 1., 1., 3., 2., 0., 3., 2., 0., 0., 0., 2., 1., 0., 0.])"
      ]
     },
     "execution_count": 213,
     "metadata": {},
     "output_type": "execute_result"
    }
   ],
   "source": [
    "labels"
   ]
  },
  {
   "cell_type": "code",
   "execution_count": 214,
   "metadata": {},
   "outputs": [
    {
     "name": "stdout",
     "output_type": "stream",
     "text": [
      "Accuracy: 0.23640662\n"
     ]
    }
   ],
   "source": [
    "#Overall \n",
    "accuracy_metric = tf.keras.metrics.Accuracy()\n",
    "accuracy_metric.update_state(labels,predictions)\n",
    "accuracy = accuracy_metric.result().numpy()\n",
    "print(\"Accuracy:\", accuracy)"
   ]
  },
  {
   "cell_type": "code",
   "execution_count": 320,
   "metadata": {},
   "outputs": [],
   "source": [
    "# Define path to your image\n",
    "image_path = \"swivelchair (20).jpg\"\n",
    "\n",
    "# Load the image\n",
    "img = load_img(image_path, target_size=IMAGE_SIZE)  # Adjust if needed\n",
    "\n",
    "# Convert to array and normalize\n",
    "x = img_to_array(img)\n",
    "x = np.expand_dims(x, axis=0)  # Add a batch dimension as the model expects batches\n",
    "x = x / 255.0  # Normalize pixel values (assuming rescale used during training)\n"
   ]
  },
  {
   "cell_type": "code",
   "execution_count": 321,
   "metadata": {},
   "outputs": [
    {
     "name": "stdout",
     "output_type": "stream",
     "text": [
      "\u001b[1m1/1\u001b[0m \u001b[32m━━━━━━━━━━━━━━━━━━━━\u001b[0m\u001b[37m\u001b[0m \u001b[1m0s\u001b[0m 52ms/step\n",
      "SwivelChair\n",
      "[[2.9903550e-08 1.5067562e-05 2.1679769e-07 9.9998474e-01 4.9781217e-08]]\n"
     ]
    }
   ],
   "source": [
    "# Make predictions\n",
    "predictions = model.predict(x)\n",
    "\n",
    "# Get the class with the highest probability\n",
    "predicted_class = np.argmax(predictions[0])  # Assuming one prediction per image\n",
    "max = np.max(predictions[0])\n",
    "if(max<0.7):\n",
    "    print(\"Other\")\n",
    "else:\n",
    "    print(labels[predicted_class])\n",
    "print(predictions)\n"
   ]
  },
  {
   "cell_type": "code",
   "execution_count": 270,
   "metadata": {},
   "outputs": [],
   "source": [
    "# model.save(\"FurnitureModel.keras\")"
   ]
  },
  {
   "cell_type": "code",
   "execution_count": null,
   "metadata": {},
   "outputs": [],
   "source": [
    "sub_models ={}\n",
    "def sub_classify(main_class,img):\n",
    "    \n",
    "    if(main_class == \"Furniture\"):\n",
    "        sub_models[\"Furniture\"] = tf.keras.models.load_model('BestModels/FurnitureModel.keras')\n",
    "        predictions = sub_models[\"Furniture\"].predict(img)\n",
    "        class_names = [\"Bed\",\"Chair\",\"Sofa\",\"SwivelChair\",\"Table\"]\n",
    "        max = np.argmax(predictions[0])\n",
    "        if(max<0.8):\n",
    "            predicted_class = \"Other\"\n",
    "        else:\n",
    "            predicted_class = class_names[max]\n",
    "        return {\"main_class\" : \"Furniture\" , \"sub_class\": predicted_class}\n",
    "    \n",
    "    elif main_class == 'It':\n",
    "        sub_models[\"It\"] = tf.keras.models.load_model('BestModels/ItModelV1.keras')\n",
    "        predictions = sub_models[\"It\"].predict(img)\n",
    "        class_names = [\"Laptop\",\"Printer\",\"Samrtphone\",\"Tv\"]\n",
    "        max = np.argmax(predictions[0])\n",
    "        if(max<0.8):\n",
    "            predicted_class = \"Other\"\n",
    "        else:\n",
    "            predicted_class = class_names[max]\n",
    "        return {\"main_class\" : \"It\" , \"sub_class\": predicted_class}\n",
    "    \n",
    "    elif main_class == 'Jewellery':\n",
    "        sub_models[main_class] = tf.keras.models.load_model('BestModels/JewelleryModelV1.keras')\n",
    "        sub_models[\"Material\"] = tf.keras.models.load_model('BestModels/MaterialModelV2.keras')\n",
    "        jew_predictions = sub_models[\"Jewellery\"].predict(img)\n",
    "        mat_predictions = sub_models[\"Material\"].predict(img)\n",
    "        jew_class_names = [\"earring\",\"necklace\",\"ring\"]\n",
    "        mat_class_names = [\"gold\",\"silver\",\"bronze\"]\n",
    "        jew_max = np.argmax(jew_predictions[0])\n",
    "        mat_max = np.argmax(mat_predictions[0])\n",
    "        if(max<0.75):\n",
    "            predicted_class = \"Other\"\n",
    "        else:\n",
    "            predicted_class = class_names[max]\n",
    "        return {\"main_class\" : \"Jewellery\" , \"sub_class\": jew_class_names[jew_max] , \"material\": mat_class_names[mat_max] }\n",
    "    \n",
    "    elif main_class == 'Animal':\n",
    "        sub_models[main_class] = tf.keras.models.load_model('BestModels/AnimalModel.keras')\n",
    "        predictions = model.predict(img)\n",
    "        decoded_prediction = tf.keras.applications.efficientnet_v2.decode_predictions(predictions, top=5)[0]\n",
    "        return {\"main_class\" : \"Animal\" , \"sub_class\": decoded_prediction[0][1]}\n",
    "    else:\n",
    "        return {\"main_class\": main_class}"
   ]
  }
 ],
 "metadata": {
  "kernelspec": {
   "display_name": "yolo",
   "language": "python",
   "name": "python3"
  },
  "language_info": {
   "codemirror_mode": {
    "name": "ipython",
    "version": 3
   },
   "file_extension": ".py",
   "mimetype": "text/x-python",
   "name": "python",
   "nbconvert_exporter": "python",
   "pygments_lexer": "ipython3",
   "version": "3.12.2"
  }
 },
 "nbformat": 4,
 "nbformat_minor": 2
}
