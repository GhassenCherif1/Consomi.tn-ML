{
 "cells": [
  {
   "cell_type": "code",
   "execution_count": 1,
   "metadata": {},
   "outputs": [],
   "source": [
    "import numpy as np \n",
    "import pandas as pd\n",
    "import matplotlib.pyplot as plt\n",
    "import tensorflow as tf\n",
    "from tensorflow.keras.preprocessing.image import ImageDataGenerator , load_img\n",
    "from tensorflow.keras.utils import img_to_array\n",
    "import os\n"
   ]
  },
  {
   "cell_type": "markdown",
   "metadata": {},
   "source": [
    "## Data Augentation"
   ]
  },
  {
   "cell_type": "code",
   "execution_count": 4,
   "metadata": {},
   "outputs": [
    {
     "name": "stdout",
     "output_type": "stream",
     "text": [
      "Successfully augmented and saved images to Train/silver\n"
     ]
    }
   ],
   "source": [
    "# # Define data augmentation parameters (adjust as needed)\n",
    "# datagen = ImageDataGenerator(\n",
    "#     rotation_range=50,  # Rotate images by up to 40 degrees\n",
    "#     shear_range=0.2,     # Shear by up to 20%\n",
    "#     zoom_range=0.2,      # Zoom by up to 20%\n",
    "#     horizontal_flip=True,# Randomly flip images horizontally\n",
    "#     vertical_flip = True,\n",
    "#     brightness_range=(0.5, 1.5)  # Adjust brightness range\n",
    "# )\n",
    "\n",
    "# # Define path to your image folder\n",
    "# image_dir = \"Train/silver\"\n",
    "\n",
    "# # Define output directory for augmented images (create if it doesn't exist)\n",
    "# save_to_dir = \"Train/silver\"\n",
    "# import os\n",
    "# os.makedirs(save_to_dir, exist_ok=True)  # Create directory if it doesn't exist\n",
    "\n",
    "# # Loop through each image in the folder\n",
    "# for filename in os.listdir(image_dir):\n",
    "#     # Load the image\n",
    "#     img = load_img(os.path.join(image_dir, filename))\n",
    "\n",
    "#     # Convert to array\n",
    "#     x = img_to_array(img)\n",
    "\n",
    "#     # Reshape (optional, based on your model's requirements)\n",
    "#     x = x.reshape((1,) + x.shape)  # Reshape if your model expects a specific format\n",
    "\n",
    "#     # Generate and save augmented images\n",
    "#     i = 0\n",
    "#     for batch in datagen.flow(x, batch_size=1, save_to_dir=save_to_dir, save_prefix=\"aug_\", save_format=\"jpeg\"):\n",
    "#         i += 1\n",
    "#         # You can adjust the number of augmented images per original image here (e.g., i > 5)\n",
    "#         if i > 1:\n",
    "#             break\n",
    "# print(f\"Successfully augmented and saved images to {save_to_dir}\")\n"
   ]
  },
  {
   "cell_type": "markdown",
   "metadata": {},
   "source": [
    "## Modeling"
   ]
  },
  {
   "cell_type": "code",
   "execution_count": 5,
   "metadata": {},
   "outputs": [],
   "source": [
    "base_model = tf.keras.applications.MobileNetV2(input_shape=(224,224,3),weights=\"imagenet\",include_top=False)"
   ]
  },
  {
   "cell_type": "code",
   "execution_count": 6,
   "metadata": {},
   "outputs": [],
   "source": [
    "x = tf.keras.layers.GlobalAvgPool2D()(base_model.output)\n",
    "x = tf.keras.layers.Flatten()(x)\n",
    "x = tf.keras.layers.Dense(128,activation=\"relu\")(x)\n",
    "x = tf.keras.layers.Dropout(0.2)(x)\n",
    "x = tf.keras.layers.Dense(64,activation=\"relu\")(x)\n",
    "x = tf.keras.layers.Dropout(0.2)(x)\n",
    "x = tf.keras.layers.Dense(3,activation=\"softmax\")(x)\n",
    "\n",
    "model = tf.keras.Model(inputs = base_model.input , outputs = x)\n"
   ]
  },
  {
   "cell_type": "code",
   "execution_count": 7,
   "metadata": {},
   "outputs": [],
   "source": [
    "#freezing the original model's layers\n",
    "for layer in base_model.layers:\n",
    "    layer.trainable = False"
   ]
  },
  {
   "cell_type": "code",
   "execution_count": 8,
   "metadata": {},
   "outputs": [],
   "source": [
    "model.compile(optimizer=\"adam\",loss=\"sparse_categorical_crossentropy\",metrics=[\"accuracy\"])"
   ]
  },
  {
   "cell_type": "code",
   "execution_count": 9,
   "metadata": {},
   "outputs": [
    {
     "name": "stderr",
     "output_type": "stream",
     "text": [
      "c:\\Users\\ghass\\anaconda3\\envs\\yolo\\Lib\\site-packages\\PIL\\Image.py:981: UserWarning: Palette images with Transparency expressed in bytes should be converted to RGBA images\n",
      "  warnings.warn(\n"
     ]
    }
   ],
   "source": [
    "# define the directory containing training images\n",
    "target_size = (224, 224)\n",
    "\n",
    "# initialize lists to store images and labels\n",
    "images = []\n",
    "labels = []\n",
    "\n",
    "for filename in os.listdir(\"Train/gold\"):\n",
    "    if filename.endswith('.jpg') or filename.endswith(\"png\") or filename.endswith(\"jpeg\"):\n",
    "        # load and preprocess the image\n",
    "        img = tf.keras.preprocessing.image.load_img(os.path.join(\"Train/gold\", filename), target_size=target_size)\n",
    "        img_array = tf.keras.preprocessing.image.img_to_array(img)\n",
    "        img_array = tf.keras.applications.mobilenet_v2.preprocess_input(img_array)\n",
    "        \n",
    "       # add the preprocessed image to the list of images\n",
    "        images.append(img_array)\n",
    "        labels.append(0)\n",
    "for filename in os.listdir(\"Train/silver\"):\n",
    "    if filename.endswith('.jpg') or filename.endswith(\"png\") or filename.endswith(\"jpeg\"):\n",
    "        # load and preprocess the image\n",
    "        img = tf.keras.preprocessing.image.load_img(os.path.join(\"Train/silver\", filename), target_size=target_size)\n",
    "        img_array = tf.keras.preprocessing.image.img_to_array(img)\n",
    "        img_array = tf.keras.applications.mobilenet_v2.preprocess_input(img_array)\n",
    "        \n",
    "       # add the preprocessed image to the list of images\n",
    "        images.append(img_array)\n",
    "        labels.append(1)\n",
    "for filename in os.listdir(\"Train/bronze\"):\n",
    "    if filename.endswith('.jpg') or filename.endswith(\"png\") or filename.endswith(\"jpeg\"):\n",
    "        # load and preprocess the image\n",
    "        img = tf.keras.preprocessing.image.load_img(os.path.join(\"Train/bronze\", filename), target_size=target_size)\n",
    "        img_array = tf.keras.preprocessing.image.img_to_array(img)\n",
    "        img_array = tf.keras.applications.mobilenet_v2.preprocess_input(img_array)\n",
    "        \n",
    "       # add the preprocessed image to the list of images\n",
    "        images.append(img_array)\n",
    "        labels.append(2)\n",
    "        \n",
    "# convert lists to numpy arrays\n",
    "X_train = np.array(images)\n",
    "Y_train = np.array(labels)"
   ]
  },
  {
   "cell_type": "code",
   "execution_count": 12,
   "metadata": {},
   "outputs": [
    {
     "data": {
      "text/plain": [
       "(1216, 224, 224, 3)"
      ]
     },
     "execution_count": 12,
     "metadata": {},
     "output_type": "execute_result"
    }
   ],
   "source": [
    "X_train.shape"
   ]
  },
  {
   "cell_type": "code",
   "execution_count": 13,
   "metadata": {},
   "outputs": [
    {
     "name": "stdout",
     "output_type": "stream",
     "text": [
      "Epoch 1/10\n",
      "\u001b[1m38/38\u001b[0m \u001b[32m━━━━━━━━━━━━━━━━━━━━\u001b[0m\u001b[37m\u001b[0m \u001b[1m21s\u001b[0m 413ms/step - accuracy: 0.5960 - loss: 0.8912\n",
      "Epoch 2/10\n",
      "\u001b[1m38/38\u001b[0m \u001b[32m━━━━━━━━━━━━━━━━━━━━\u001b[0m\u001b[37m\u001b[0m \u001b[1m15s\u001b[0m 395ms/step - accuracy: 0.8695 - loss: 0.3280\n",
      "Epoch 3/10\n",
      "\u001b[1m38/38\u001b[0m \u001b[32m━━━━━━━━━━━━━━━━━━━━\u001b[0m\u001b[37m\u001b[0m \u001b[1m15s\u001b[0m 408ms/step - accuracy: 0.9453 - loss: 0.1673\n",
      "Epoch 4/10\n",
      "\u001b[1m38/38\u001b[0m \u001b[32m━━━━━━━━━━━━━━━━━━━━\u001b[0m\u001b[37m\u001b[0m \u001b[1m15s\u001b[0m 387ms/step - accuracy: 0.9504 - loss: 0.1265\n",
      "Epoch 5/10\n",
      "\u001b[1m38/38\u001b[0m \u001b[32m━━━━━━━━━━━━━━━━━━━━\u001b[0m\u001b[37m\u001b[0m \u001b[1m15s\u001b[0m 385ms/step - accuracy: 0.9688 - loss: 0.0900\n",
      "Epoch 6/10\n",
      "\u001b[1m38/38\u001b[0m \u001b[32m━━━━━━━━━━━━━━━━━━━━\u001b[0m\u001b[37m\u001b[0m \u001b[1m22s\u001b[0m 583ms/step - accuracy: 0.9793 - loss: 0.0509\n",
      "Epoch 7/10\n",
      "\u001b[1m38/38\u001b[0m \u001b[32m━━━━━━━━━━━━━━━━━━━━\u001b[0m\u001b[37m\u001b[0m \u001b[1m23s\u001b[0m 611ms/step - accuracy: 0.9853 - loss: 0.0485\n",
      "Epoch 8/10\n",
      "\u001b[1m38/38\u001b[0m \u001b[32m━━━━━━━━━━━━━━━━━━━━\u001b[0m\u001b[37m\u001b[0m \u001b[1m14s\u001b[0m 375ms/step - accuracy: 0.9945 - loss: 0.0279\n",
      "Epoch 9/10\n",
      "\u001b[1m38/38\u001b[0m \u001b[32m━━━━━━━━━━━━━━━━━━━━\u001b[0m\u001b[37m\u001b[0m \u001b[1m13s\u001b[0m 352ms/step - accuracy: 0.9947 - loss: 0.0226\n",
      "Epoch 10/10\n",
      "\u001b[1m38/38\u001b[0m \u001b[32m━━━━━━━━━━━━━━━━━━━━\u001b[0m\u001b[37m\u001b[0m \u001b[1m13s\u001b[0m 345ms/step - accuracy: 0.9968 - loss: 0.0166\n"
     ]
    },
    {
     "data": {
      "text/plain": [
       "<keras.src.callbacks.history.History at 0x190a43a1850>"
      ]
     },
     "execution_count": 13,
     "metadata": {},
     "output_type": "execute_result"
    }
   ],
   "source": [
    "model.fit(X_train,Y_train,epochs = 10)"
   ]
  },
  {
   "cell_type": "code",
   "execution_count": 14,
   "metadata": {},
   "outputs": [],
   "source": [
    "# define the directory containing training images\n",
    "target_size = (224, 224)\n",
    "\n",
    "# initialize lists to store images and labels\n",
    "images = []\n",
    "labels = []\n",
    "\n",
    "for filename in os.listdir(\"Test/gold\"):\n",
    "    if filename.endswith('.jpg') or filename.endswith(\"png\") or filename.endswith(\"jpeg\"):\n",
    "        # load and preprocess the image\n",
    "        img = tf.keras.preprocessing.image.load_img(os.path.join(\"Test/gold\", filename), target_size=target_size)\n",
    "        img_array = tf.keras.preprocessing.image.img_to_array(img)\n",
    "        img_array = tf.keras.applications.mobilenet_v2.preprocess_input(img_array)\n",
    "        \n",
    "       # add the preprocessed image to the list of images\n",
    "        images.append(img_array)\n",
    "        labels.append(0)\n",
    "for filename in os.listdir(\"Test/silver\"):\n",
    "    if filename.endswith('.jpg') or filename.endswith(\"png\") or filename.endswith(\"jpeg\"):\n",
    "        # load and preprocess the image\n",
    "        img = tf.keras.preprocessing.image.load_img(os.path.join(\"Test/silver\", filename), target_size=target_size)\n",
    "        img_array = tf.keras.preprocessing.image.img_to_array(img)\n",
    "        img_array = tf.keras.applications.mobilenet_v2.preprocess_input(img_array)\n",
    "        \n",
    "       # add the preprocessed image to the list of images\n",
    "        images.append(img_array)\n",
    "        labels.append(1)\n",
    "for filename in os.listdir(\"Test/bronze\"):\n",
    "    if filename.endswith('.jpg') or filename.endswith(\"png\") or filename.endswith(\"jpeg\"):\n",
    "        # load and preprocess the image\n",
    "        img = tf.keras.preprocessing.image.load_img(os.path.join(\"Test/bronze\", filename), target_size=target_size)\n",
    "        img_array = tf.keras.preprocessing.image.img_to_array(img)\n",
    "        img_array = tf.keras.applications.mobilenet_v2.preprocess_input(img_array)\n",
    "        \n",
    "       # add the preprocessed image to the list of images\n",
    "        images.append(img_array)\n",
    "        labels.append(2)\n",
    "        \n",
    "# convert lists to numpy arrays\n",
    "X_test = np.array(images)\n",
    "Y_test = np.array(labels)"
   ]
  },
  {
   "cell_type": "code",
   "execution_count": 15,
   "metadata": {},
   "outputs": [
    {
     "data": {
      "text/plain": [
       "(79,)"
      ]
     },
     "execution_count": 15,
     "metadata": {},
     "output_type": "execute_result"
    }
   ],
   "source": [
    "Y_test.shape"
   ]
  },
  {
   "cell_type": "code",
   "execution_count": 16,
   "metadata": {},
   "outputs": [
    {
     "name": "stdout",
     "output_type": "stream",
     "text": [
      "\u001b[1m3/3\u001b[0m \u001b[32m━━━━━━━━━━━━━━━━━━━━\u001b[0m\u001b[37m\u001b[0m \u001b[1m3s\u001b[0m 879ms/step\n"
     ]
    }
   ],
   "source": [
    "predictions_array = model.predict(X_test)"
   ]
  },
  {
   "cell_type": "code",
   "execution_count": 17,
   "metadata": {},
   "outputs": [],
   "source": [
    "predictions = np.argmax(predictions_array,axis=1)"
   ]
  },
  {
   "cell_type": "code",
   "execution_count": 18,
   "metadata": {},
   "outputs": [
    {
     "data": {
      "text/plain": [
       "(79,)"
      ]
     },
     "execution_count": 18,
     "metadata": {},
     "output_type": "execute_result"
    }
   ],
   "source": [
    "predictions.shape"
   ]
  },
  {
   "cell_type": "code",
   "execution_count": 19,
   "metadata": {},
   "outputs": [
    {
     "name": "stdout",
     "output_type": "stream",
     "text": [
      "Accuracy: 0.9493671\n"
     ]
    }
   ],
   "source": [
    "accuracy_metric = tf.keras.metrics.Accuracy()\n",
    "accuracy_metric.update_state(Y_test,predictions)\n",
    "accuracy = accuracy_metric.result().numpy()\n",
    "print(\"Accuracy:\", accuracy)"
   ]
  },
  {
   "cell_type": "code",
   "execution_count": 20,
   "metadata": {},
   "outputs": [
    {
     "name": "stdout",
     "output_type": "stream",
     "text": [
      "Accuracy: 0.98245615\n"
     ]
    }
   ],
   "source": [
    "#gold\n",
    "accuracy_metric = tf.keras.metrics.Accuracy()\n",
    "accuracy_metric.update_state(Y_test[:57],predictions[:57])\n",
    "accuracy = accuracy_metric.result().numpy()\n",
    "print(\"Accuracy:\", accuracy)"
   ]
  },
  {
   "cell_type": "code",
   "execution_count": 27,
   "metadata": {},
   "outputs": [
    {
     "data": {
      "text/plain": [
       "1"
      ]
     },
     "execution_count": 27,
     "metadata": {},
     "output_type": "execute_result"
    }
   ],
   "source": [
    "predictions[40]"
   ]
  },
  {
   "cell_type": "code",
   "execution_count": 22,
   "metadata": {},
   "outputs": [
    {
     "name": "stdout",
     "output_type": "stream",
     "text": [
      "Accuracy: 0.9285714\n"
     ]
    }
   ],
   "source": [
    "#silver\n",
    "accuracy_metric = tf.keras.metrics.Accuracy()\n",
    "accuracy_metric.update_state(Y_test[57:57+14],predictions[57:57+14])\n",
    "accuracy = accuracy_metric.result().numpy()\n",
    "print(\"Accuracy:\", accuracy)"
   ]
  },
  {
   "cell_type": "code",
   "execution_count": 25,
   "metadata": {},
   "outputs": [
    {
     "name": "stdout",
     "output_type": "stream",
     "text": [
      "Accuracy: 0.75\n"
     ]
    }
   ],
   "source": [
    "#bronze\n",
    "accuracy_metric = tf.keras.metrics.Accuracy()\n",
    "accuracy_metric.update_state(Y_test[57+14:57+14+8],predictions[57+14:57+14+8])\n",
    "accuracy = accuracy_metric.result().numpy()\n",
    "print(\"Accuracy:\", accuracy)"
   ]
  },
  {
   "cell_type": "code",
   "execution_count": 26,
   "metadata": {},
   "outputs": [
    {
     "data": {
      "text/plain": [
       "array([0, 2, 2, 0, 2, 2, 2, 2], dtype=int64)"
      ]
     },
     "execution_count": 26,
     "metadata": {},
     "output_type": "execute_result"
    }
   ],
   "source": [
    "predictions[57+14:57+14+8]"
   ]
  },
  {
   "cell_type": "code",
   "execution_count": 29,
   "metadata": {},
   "outputs": [],
   "source": [
    "model.save(\"MaterialModelV2.keras\")"
   ]
  },
  {
   "cell_type": "code",
   "execution_count": 28,
   "metadata": {},
   "outputs": [
    {
     "data": {
      "text/plain": [
       "array([0, 1, 1, 1, 1, 1, 1, 1, 1, 1, 1, 1, 1, 1], dtype=int64)"
      ]
     },
     "execution_count": 28,
     "metadata": {},
     "output_type": "execute_result"
    }
   ],
   "source": [
    "predictions[57:57+14]"
   ]
  },
  {
   "cell_type": "code",
   "execution_count": null,
   "metadata": {},
   "outputs": [],
   "source": []
  }
 ],
 "metadata": {
  "kernelspec": {
   "display_name": "yolo",
   "language": "python",
   "name": "python3"
  },
  "language_info": {
   "codemirror_mode": {
    "name": "ipython",
    "version": 3
   },
   "file_extension": ".py",
   "mimetype": "text/x-python",
   "name": "python",
   "nbconvert_exporter": "python",
   "pygments_lexer": "ipython3",
   "version": "3.12.2"
  }
 },
 "nbformat": 4,
 "nbformat_minor": 2
}
