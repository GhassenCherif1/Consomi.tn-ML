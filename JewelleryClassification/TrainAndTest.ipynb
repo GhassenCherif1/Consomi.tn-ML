{
 "cells": [
  {
   "cell_type": "code",
   "execution_count": 2,
   "metadata": {},
   "outputs": [],
   "source": [
    "import numpy as np \n",
    "import pandas as pd\n",
    "import matplotlib.pyplot as plt\n",
    "import tensorflow as tf\n",
    "from tensorflow.keras.preprocessing.image import ImageDataGenerator , load_img\n",
    "from tensorflow.keras.utils import img_to_array\n",
    "import os\n",
    "import glob\n",
    "from sklearn.metrics import classification_report, accuracy_score\n"
   ]
  },
  {
   "cell_type": "markdown",
   "metadata": {},
   "source": [
    "## Data Augmentation"
   ]
  },
  {
   "cell_type": "code",
   "execution_count": 6,
   "metadata": {},
   "outputs": [
    {
     "name": "stdout",
     "output_type": "stream",
     "text": [
      "Successfully augmented and saved images to Train/ring\n"
     ]
    }
   ],
   "source": [
    "# # Define data augmentation parameters (adjust as needed)\n",
    "# datagen = ImageDataGenerator(\n",
    "#     rotation_range=40,  # Rotate images by up to 40 degrees\n",
    "#     shear_range=0.2,     # Shear by up to 20%\n",
    "#     zoom_range=0.2,      # Zoom by up to 20%\n",
    "#     horizontal_flip=True, # Randomly flip images horizontally\n",
    "#     brightness_range=(0.5, 1.5)  # Adjust brightness range\n",
    "# )\n",
    "\n",
    "# # Define path to your image folder\n",
    "# image_dir = \"Train/ring\"\n",
    "\n",
    "# # Define output directory for augmented images (create if it doesn't exist)\n",
    "# save_to_dir = \"Train/ring\"\n",
    "# import os\n",
    "# os.makedirs(save_to_dir, exist_ok=True)  # Create directory if it doesn't exist\n",
    "\n",
    "# # Loop through each image in the folder\n",
    "# for filename in os.listdir(image_dir):\n",
    "#     # Load the image\n",
    "#     img = load_img(os.path.join(image_dir, filename))\n",
    "\n",
    "#     # Convert to array\n",
    "#     x = img_to_array(img)\n",
    "\n",
    "#     # Reshape (optional, based on your model's requirements)\n",
    "#     x = x.reshape((1,) + x.shape)  # Reshape if your model expects a specific format\n",
    "\n",
    "#     # Generate and save augmented images\n",
    "#     i = 0\n",
    "#     for batch in datagen.flow(x, batch_size=1, save_to_dir=save_to_dir, save_prefix=\"aug_\", save_format=\"jpeg\"):\n",
    "#         i += 1\n",
    "#         # You can adjust the number of augmented images per original image here (e.g., i > 5)\n",
    "#         if i > 2:\n",
    "#             break\n",
    "# print(f\"Successfully augmented and saved images to {save_to_dir}\")\n"
   ]
  },
  {
   "cell_type": "markdown",
   "metadata": {},
   "source": [
    "## Modeling"
   ]
  },
  {
   "cell_type": "code",
   "execution_count": 7,
   "metadata": {},
   "outputs": [],
   "source": [
    "base_model = tf.keras.applications.MobileNetV2(input_shape=(224,224,3),weights=\"imagenet\",include_top=False)"
   ]
  },
  {
   "cell_type": "code",
   "execution_count": 8,
   "metadata": {},
   "outputs": [],
   "source": [
    "x = tf.keras.layers.GlobalAvgPool2D()(base_model.output)\n",
    "x = tf.keras.layers.Flatten()(x)\n",
    "x = tf.keras.layers.Dense(128,activation=\"relu\")(x)\n",
    "x = tf.keras.layers.Dropout(0.2)(x)\n",
    "x = tf.keras.layers.Dense(64,activation=\"relu\")(x)\n",
    "x = tf.keras.layers.Dropout(0.2)(x)\n",
    "x = tf.keras.layers.Dense(3,activation=\"softmax\")(x)\n",
    "\n",
    "model = tf.keras.Model(inputs = base_model.input , outputs = x)\n"
   ]
  },
  {
   "cell_type": "code",
   "execution_count": 9,
   "metadata": {},
   "outputs": [],
   "source": [
    "#freezing the original model's layers\n",
    "for layer in base_model.layers:\n",
    "    layer.trainable = False"
   ]
  },
  {
   "cell_type": "code",
   "execution_count": 10,
   "metadata": {},
   "outputs": [],
   "source": [
    "model.compile(optimizer=\"adam\",loss=\"sparse_categorical_crossentropy\",metrics=[\"accuracy\"])"
   ]
  },
  {
   "cell_type": "code",
   "execution_count": 11,
   "metadata": {},
   "outputs": [
    {
     "name": "stderr",
     "output_type": "stream",
     "text": [
      "c:\\Users\\ghass\\anaconda3\\envs\\yolo\\Lib\\site-packages\\PIL\\Image.py:981: UserWarning: Palette images with Transparency expressed in bytes should be converted to RGBA images\n",
      "  warnings.warn(\n"
     ]
    }
   ],
   "source": [
    "# define the directory containing training images\n",
    "target_size = (224, 224)\n",
    "\n",
    "# initialize lists to store images and labels\n",
    "images = []\n",
    "labels = []\n",
    "\n",
    "for filename in os.listdir(\"Train/Jewellery/earring\"):\n",
    "    if filename.endswith('.jpg') or filename.endswith(\"png\") or filename.endswith(\"jpeg\"):\n",
    "        # load and preprocess the image\n",
    "        img = tf.keras.preprocessing.image.load_img(os.path.join(\"Train/earring\", filename), target_size=target_size)\n",
    "        img_array = tf.keras.preprocessing.image.img_to_array(img)\n",
    "        img_array = tf.keras.applications.mobilenet_v2.preprocess_input(img_array)\n",
    "        \n",
    "       # add the preprocessed image to the list of images\n",
    "        images.append(img_array)\n",
    "        labels.append(0)\n",
    "for filename in os.listdir(\"Train/Jewellery/necklace\"):\n",
    "    if filename.endswith('.jpg') or filename.endswith(\"png\") or filename.endswith(\"jpeg\"):\n",
    "        # load and preprocess the image\n",
    "        img = tf.keras.preprocessing.image.load_img(os.path.join(\"Train/necklace\", filename), target_size=target_size)\n",
    "        img_array = tf.keras.preprocessing.image.img_to_array(img)\n",
    "        img_array = tf.keras.applications.mobilenet_v2.preprocess_input(img_array)\n",
    "        \n",
    "       # add the preprocessed image to the list of images\n",
    "        images.append(img_array)\n",
    "        labels.append(1)\n",
    "for filename in os.listdir(\"Train/Jewellery/ring\"):\n",
    "    if filename.endswith('.jpg') or filename.endswith(\"png\") or filename.endswith(\"jpeg\"):\n",
    "        # load and preprocess the image\n",
    "        img = tf.keras.preprocessing.image.load_img(os.path.join(\"Train/ring\", filename), target_size=target_size)\n",
    "        img_array = tf.keras.preprocessing.image.img_to_array(img)\n",
    "        img_array = tf.keras.applications.mobilenet_v2.preprocess_input(img_array)\n",
    "        \n",
    "       # add the preprocessed image to the list of images\n",
    "        images.append(img_array)\n",
    "        labels.append(2)\n",
    "        \n",
    "# convert lists to numpy arrays\n",
    "X_train = np.array(images)\n",
    "Y_train = np.array(labels)"
   ]
  },
  {
   "cell_type": "code",
   "execution_count": 12,
   "metadata": {},
   "outputs": [
    {
     "data": {
      "text/plain": [
       "(3871, 224, 224, 3)"
      ]
     },
     "execution_count": 12,
     "metadata": {},
     "output_type": "execute_result"
    }
   ],
   "source": [
    "X_train.shape"
   ]
  },
  {
   "cell_type": "code",
   "execution_count": 13,
   "metadata": {},
   "outputs": [
    {
     "name": "stdout",
     "output_type": "stream",
     "text": [
      "Epoch 1/10\n",
      "\u001b[1m121/121\u001b[0m \u001b[32m━━━━━━━━━━━━━━━━━━━━\u001b[0m\u001b[37m\u001b[0m \u001b[1m53s\u001b[0m 381ms/step - accuracy: 0.8798 - loss: 0.2994\n",
      "Epoch 2/10\n",
      "\u001b[1m121/121\u001b[0m \u001b[32m━━━━━━━━━━━━━━━━━━━━\u001b[0m\u001b[37m\u001b[0m \u001b[1m45s\u001b[0m 369ms/step - accuracy: 0.9811 - loss: 0.0503\n",
      "Epoch 3/10\n",
      "\u001b[1m121/121\u001b[0m \u001b[32m━━━━━━━━━━━━━━━━━━━━\u001b[0m\u001b[37m\u001b[0m \u001b[1m45s\u001b[0m 372ms/step - accuracy: 0.9927 - loss: 0.0215\n",
      "Epoch 4/10\n",
      "\u001b[1m121/121\u001b[0m \u001b[32m━━━━━━━━━━━━━━━━━━━━\u001b[0m\u001b[37m\u001b[0m \u001b[1m44s\u001b[0m 366ms/step - accuracy: 0.9921 - loss: 0.0204\n",
      "Epoch 5/10\n",
      "\u001b[1m121/121\u001b[0m \u001b[32m━━━━━━━━━━━━━━━━━━━━\u001b[0m\u001b[37m\u001b[0m \u001b[1m44s\u001b[0m 363ms/step - accuracy: 0.9939 - loss: 0.0166\n",
      "Epoch 6/10\n",
      "\u001b[1m121/121\u001b[0m \u001b[32m━━━━━━━━━━━━━━━━━━━━\u001b[0m\u001b[37m\u001b[0m \u001b[1m44s\u001b[0m 366ms/step - accuracy: 0.9945 - loss: 0.0165\n",
      "Epoch 7/10\n",
      "\u001b[1m121/121\u001b[0m \u001b[32m━━━━━━━━━━━━━━━━━━━━\u001b[0m\u001b[37m\u001b[0m \u001b[1m44s\u001b[0m 366ms/step - accuracy: 0.9982 - loss: 0.0062\n",
      "Epoch 8/10\n",
      "\u001b[1m121/121\u001b[0m \u001b[32m━━━━━━━━━━━━━━━━━━━━\u001b[0m\u001b[37m\u001b[0m \u001b[1m42s\u001b[0m 350ms/step - accuracy: 0.9990 - loss: 0.0033\n",
      "Epoch 9/10\n",
      "\u001b[1m121/121\u001b[0m \u001b[32m━━━━━━━━━━━━━━━━━━━━\u001b[0m\u001b[37m\u001b[0m \u001b[1m43s\u001b[0m 351ms/step - accuracy: 0.9943 - loss: 0.0159\n",
      "Epoch 10/10\n",
      "\u001b[1m121/121\u001b[0m \u001b[32m━━━━━━━━━━━━━━━━━━━━\u001b[0m\u001b[37m\u001b[0m \u001b[1m43s\u001b[0m 352ms/step - accuracy: 0.9946 - loss: 0.0159\n"
     ]
    },
    {
     "data": {
      "text/plain": [
       "<keras.src.callbacks.history.History at 0x1f281e61ca0>"
      ]
     },
     "execution_count": 13,
     "metadata": {},
     "output_type": "execute_result"
    }
   ],
   "source": [
    "model.fit(X_train,Y_train,epochs = 10)"
   ]
  },
  {
   "cell_type": "code",
   "execution_count": 4,
   "metadata": {},
   "outputs": [
    {
     "data": {
      "text/plain": [
       "['Train/Jewellery\\\\earring',\n",
       " 'Train/Jewellery\\\\necklace',\n",
       " 'Train/Jewellery\\\\ring']"
      ]
     },
     "execution_count": 4,
     "metadata": {},
     "output_type": "execute_result"
    }
   ],
   "source": [
    "train_Path = \"Train/Jewellery\"\n",
    "IMAGE_SIZE = (224,224)\n",
    "folders = glob.glob(train_Path + '/*')\n",
    "folders"
   ]
  },
  {
   "cell_type": "code",
   "execution_count": 5,
   "metadata": {},
   "outputs": [],
   "source": [
    "labels = [\"earring\",\"necklace\",\"ring\"]"
   ]
  },
  {
   "cell_type": "code",
   "execution_count": 7,
   "metadata": {},
   "outputs": [
    {
     "name": "stdout",
     "output_type": "stream",
     "text": [
      "Found 307 images belonging to 3 classes.\n"
     ]
    }
   ],
   "source": [
    "test_datagen = ImageDataGenerator(rescale=1./255)\n",
    "test_Path = \"Test/Jewellery\"\n",
    "test_set = test_datagen.flow_from_directory(\n",
    "    test_Path,  # Use your test data directory here\n",
    "    target_size=IMAGE_SIZE,\n",
    "    batch_size=32,\n",
    "    class_mode='categorical',\n",
    "    shuffle= False\n",
    ")"
   ]
  },
  {
   "cell_type": "code",
   "execution_count": 8,
   "metadata": {},
   "outputs": [
    {
     "name": "stderr",
     "output_type": "stream",
     "text": [
      "c:\\Users\\ghass\\anaconda3\\envs\\yolo\\Lib\\site-packages\\keras\\src\\saving\\saving_lib.py:396: UserWarning: Skipping variable loading for optimizer 'adam', because it has 326 variables whereas the saved optimizer has 14 variables. \n",
      "  trackable.load_own_variables(weights_store.get(inner_path))\n"
     ]
    }
   ],
   "source": [
    "model = tf.keras.models.load_model(\"JewelleryModelV1.keras\")"
   ]
  },
  {
   "cell_type": "code",
   "execution_count": 9,
   "metadata": {},
   "outputs": [
    {
     "name": "stderr",
     "output_type": "stream",
     "text": [
      "c:\\Users\\ghass\\anaconda3\\envs\\yolo\\Lib\\site-packages\\PIL\\Image.py:981: UserWarning: Palette images with Transparency expressed in bytes should be converted to RGBA images\n",
      "  warnings.warn(\n",
      "c:\\Users\\ghass\\anaconda3\\envs\\yolo\\Lib\\site-packages\\keras\\src\\trainers\\data_adapters\\py_dataset_adapter.py:120: UserWarning: Your `PyDataset` class should call `super().__init__(**kwargs)` in its constructor. `**kwargs` can include `workers`, `use_multiprocessing`, `max_queue_size`. Do not pass these arguments to `fit()`, as they will be ignored.\n",
      "  self._warn_if_super_not_called()\n"
     ]
    },
    {
     "name": "stdout",
     "output_type": "stream",
     "text": [
      "\u001b[1m10/10\u001b[0m \u001b[32m━━━━━━━━━━━━━━━━━━━━\u001b[0m\u001b[37m\u001b[0m \u001b[1m9s\u001b[0m 698ms/step\n",
      "              precision    recall  f1-score   support\n",
      "\n",
      "     earring       1.00      0.95      0.98       188\n",
      "    necklace       0.96      0.99      0.97        67\n",
      "        ring       0.88      1.00      0.94        52\n",
      "\n",
      "    accuracy                           0.97       307\n",
      "   macro avg       0.95      0.98      0.96       307\n",
      "weighted avg       0.97      0.97      0.97       307\n",
      "\n"
     ]
    }
   ],
   "source": [
    "test_labels = test_set.classes\n",
    "\n",
    "# Predict the labels for the test set\n",
    "predictions = model.predict(test_set, steps=len(test_set))\n",
    "predicted_classes = np.argmax(predictions, axis=1)\n",
    "\n",
    "# Get the class indices to labels mapping\n",
    "class_labels = list(test_set.class_indices.keys())\n",
    "\n",
    "# Print classification report\n",
    "report = classification_report(test_labels, predicted_classes, target_names=class_labels)\n",
    "print(report)"
   ]
  },
  {
   "cell_type": "code",
   "execution_count": 25,
   "metadata": {},
   "outputs": [],
   "source": [
    "# model.save(\"JewelleryModelV1.keras\")"
   ]
  },
  {
   "cell_type": "code",
   "execution_count": null,
   "metadata": {},
   "outputs": [],
   "source": []
  }
 ],
 "metadata": {
  "kernelspec": {
   "display_name": "yolo",
   "language": "python",
   "name": "python3"
  },
  "language_info": {
   "codemirror_mode": {
    "name": "ipython",
    "version": 3
   },
   "file_extension": ".py",
   "mimetype": "text/x-python",
   "name": "python",
   "nbconvert_exporter": "python",
   "pygments_lexer": "ipython3",
   "version": "3.12.2"
  }
 },
 "nbformat": 4,
 "nbformat_minor": 2
}
